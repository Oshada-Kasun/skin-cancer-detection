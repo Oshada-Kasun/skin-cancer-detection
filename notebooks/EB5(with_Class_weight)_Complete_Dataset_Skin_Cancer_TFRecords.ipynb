{
  "nbformat": 4,
  "nbformat_minor": 0,
  "metadata": {
    "colab": {
      "name": "EB5(with Class_weight) - Complete Dataset - Skin Cancer TFRecords.ipynb",
      "provenance": [],
      "collapsed_sections": [],
      "machine_shape": "hm",
      "mount_file_id": "1ANJVGurvujCUbzfxhfVw3XFVKwt9yLH9",
      "authorship_tag": "ABX9TyNYV/WxCZkSjkzwVkuci9lZ",
      "include_colab_link": true
    },
    "kernelspec": {
      "name": "python3",
      "display_name": "Python 3"
    },
    "language_info": {
      "name": "python"
    },
    "accelerator": "TPU"
  },
  "cells": [
    {
      "cell_type": "markdown",
      "metadata": {
        "id": "view-in-github",
        "colab_type": "text"
      },
      "source": [
        "<a href=\"https://colab.research.google.com/github/Oshada-Kasun/skin-cancer-detection/blob/main/notebooks/EB5(with_Class_weight)_Complete_Dataset_Skin_Cancer_TFRecords.ipynb\" target=\"_parent\"><img src=\"https://colab.research.google.com/assets/colab-badge.svg\" alt=\"Open In Colab\"/></a>"
      ]
    },
    {
      "cell_type": "code",
      "execution_count": null,
      "metadata": {
        "colab": {
          "base_uri": "https://localhost:8080/"
        },
        "id": "smwpu9AcWuSZ",
        "outputId": "a6794f4a-5a64-46f6-f204-417f207a3f06"
      },
      "outputs": [
        {
          "output_type": "stream",
          "name": "stdout",
          "text": [
            "Requirement already satisfied: pip in /usr/local/lib/python3.7/dist-packages (21.1.3)\n",
            "Collecting install\n",
            "  Downloading install-1.3.5-py3-none-any.whl (3.2 kB)\n",
            "Collecting tensorflow-addons\n",
            "  Downloading tensorflow_addons-0.15.0-cp37-cp37m-manylinux_2_12_x86_64.manylinux2010_x86_64.whl (1.1 MB)\n",
            "\u001b[K     |████████████████████████████████| 1.1 MB 5.3 MB/s \n",
            "\u001b[?25hRequirement already satisfied: typeguard>=2.7 in /usr/local/lib/python3.7/dist-packages (from tensorflow-addons) (2.7.1)\n",
            "Installing collected packages: tensorflow-addons, install\n",
            "Successfully installed install-1.3.5 tensorflow-addons-0.15.0\n"
          ]
        }
      ],
      "source": [
        "import os, sys, math, pathlib, re, gc, time, random\n",
        "import numpy as np\n",
        "import pandas as pd\n",
        "from matplotlib import pyplot as plt\n",
        "from datetime import datetime, timedelta\n",
        "from sklearn.model_selection import KFold\n",
        "from sklearn.metrics import roc_auc_score\n",
        "import time\n",
        "\n",
        "import tensorflow as tf\n",
        "import tensorflow.keras.layers as L\n",
        "import tensorflow.keras.backend as K\n",
        "\n",
        "!pip install pip install tensorflow-addons\n",
        "import tensorflow_addons as tfa"
      ]
    },
    {
      "cell_type": "code",
      "execution_count": null,
      "metadata": {
        "colab": {
          "base_uri": "https://localhost:8080/"
        },
        "id": "o-PhFBxut6Dr",
        "outputId": "1e240e72-254a-4158-aebf-0b7300632893"
      },
      "outputs": [
        {
          "output_type": "stream",
          "name": "stdout",
          "text": [
            "\n",
            "Tensorflow version 2.7.0\n"
          ]
        }
      ],
      "source": [
        "print(\"\\nTensorflow version \" + tf.__version__)\n",
        "AUTO = tf.data.experimental.AUTOTUNE "
      ]
    },
    {
      "cell_type": "code",
      "execution_count": null,
      "metadata": {
        "colab": {
          "base_uri": "https://localhost:8080/"
        },
        "id": "f1960nxjgnZC",
        "outputId": "ba20baba-7708-40e1-974d-d60ac706b44f"
      },
      "outputs": [
        {
          "output_type": "stream",
          "name": "stdout",
          "text": [
            "INFO:tensorflow:Deallocate tpu buffers before initializing tpu system.\n"
          ]
        },
        {
          "output_type": "stream",
          "name": "stderr",
          "text": [
            "INFO:tensorflow:Deallocate tpu buffers before initializing tpu system.\n"
          ]
        },
        {
          "output_type": "stream",
          "name": "stdout",
          "text": [
            "INFO:tensorflow:Initializing the TPU system: grpc://10.83.40.98:8470\n"
          ]
        },
        {
          "output_type": "stream",
          "name": "stderr",
          "text": [
            "INFO:tensorflow:Initializing the TPU system: grpc://10.83.40.98:8470\n"
          ]
        },
        {
          "output_type": "stream",
          "name": "stdout",
          "text": [
            "INFO:tensorflow:Finished initializing TPU system.\n"
          ]
        },
        {
          "output_type": "stream",
          "name": "stderr",
          "text": [
            "INFO:tensorflow:Finished initializing TPU system.\n"
          ]
        },
        {
          "output_type": "stream",
          "name": "stdout",
          "text": [
            "Device: grpc://10.83.40.98:8470\n",
            "INFO:tensorflow:Found TPU system:\n"
          ]
        },
        {
          "output_type": "stream",
          "name": "stderr",
          "text": [
            "INFO:tensorflow:Found TPU system:\n"
          ]
        },
        {
          "output_type": "stream",
          "name": "stdout",
          "text": [
            "INFO:tensorflow:*** Num TPU Cores: 8\n"
          ]
        },
        {
          "output_type": "stream",
          "name": "stderr",
          "text": [
            "INFO:tensorflow:*** Num TPU Cores: 8\n"
          ]
        },
        {
          "output_type": "stream",
          "name": "stdout",
          "text": [
            "INFO:tensorflow:*** Num TPU Workers: 1\n"
          ]
        },
        {
          "output_type": "stream",
          "name": "stderr",
          "text": [
            "INFO:tensorflow:*** Num TPU Workers: 1\n"
          ]
        },
        {
          "output_type": "stream",
          "name": "stdout",
          "text": [
            "INFO:tensorflow:*** Num TPU Cores Per Worker: 8\n"
          ]
        },
        {
          "output_type": "stream",
          "name": "stderr",
          "text": [
            "INFO:tensorflow:*** Num TPU Cores Per Worker: 8\n"
          ]
        },
        {
          "output_type": "stream",
          "name": "stdout",
          "text": [
            "INFO:tensorflow:*** Available Device: _DeviceAttributes(/job:localhost/replica:0/task:0/device:CPU:0, CPU, 0, 0)\n"
          ]
        },
        {
          "output_type": "stream",
          "name": "stderr",
          "text": [
            "INFO:tensorflow:*** Available Device: _DeviceAttributes(/job:localhost/replica:0/task:0/device:CPU:0, CPU, 0, 0)\n"
          ]
        },
        {
          "output_type": "stream",
          "name": "stdout",
          "text": [
            "INFO:tensorflow:*** Available Device: _DeviceAttributes(/job:worker/replica:0/task:0/device:CPU:0, CPU, 0, 0)\n"
          ]
        },
        {
          "output_type": "stream",
          "name": "stderr",
          "text": [
            "INFO:tensorflow:*** Available Device: _DeviceAttributes(/job:worker/replica:0/task:0/device:CPU:0, CPU, 0, 0)\n"
          ]
        },
        {
          "output_type": "stream",
          "name": "stdout",
          "text": [
            "INFO:tensorflow:*** Available Device: _DeviceAttributes(/job:worker/replica:0/task:0/device:TPU:0, TPU, 0, 0)\n"
          ]
        },
        {
          "output_type": "stream",
          "name": "stderr",
          "text": [
            "INFO:tensorflow:*** Available Device: _DeviceAttributes(/job:worker/replica:0/task:0/device:TPU:0, TPU, 0, 0)\n"
          ]
        },
        {
          "output_type": "stream",
          "name": "stdout",
          "text": [
            "INFO:tensorflow:*** Available Device: _DeviceAttributes(/job:worker/replica:0/task:0/device:TPU:1, TPU, 0, 0)\n"
          ]
        },
        {
          "output_type": "stream",
          "name": "stderr",
          "text": [
            "INFO:tensorflow:*** Available Device: _DeviceAttributes(/job:worker/replica:0/task:0/device:TPU:1, TPU, 0, 0)\n"
          ]
        },
        {
          "output_type": "stream",
          "name": "stdout",
          "text": [
            "INFO:tensorflow:*** Available Device: _DeviceAttributes(/job:worker/replica:0/task:0/device:TPU:2, TPU, 0, 0)\n"
          ]
        },
        {
          "output_type": "stream",
          "name": "stderr",
          "text": [
            "INFO:tensorflow:*** Available Device: _DeviceAttributes(/job:worker/replica:0/task:0/device:TPU:2, TPU, 0, 0)\n"
          ]
        },
        {
          "output_type": "stream",
          "name": "stdout",
          "text": [
            "INFO:tensorflow:*** Available Device: _DeviceAttributes(/job:worker/replica:0/task:0/device:TPU:3, TPU, 0, 0)\n"
          ]
        },
        {
          "output_type": "stream",
          "name": "stderr",
          "text": [
            "INFO:tensorflow:*** Available Device: _DeviceAttributes(/job:worker/replica:0/task:0/device:TPU:3, TPU, 0, 0)\n"
          ]
        },
        {
          "output_type": "stream",
          "name": "stdout",
          "text": [
            "INFO:tensorflow:*** Available Device: _DeviceAttributes(/job:worker/replica:0/task:0/device:TPU:4, TPU, 0, 0)\n"
          ]
        },
        {
          "output_type": "stream",
          "name": "stderr",
          "text": [
            "INFO:tensorflow:*** Available Device: _DeviceAttributes(/job:worker/replica:0/task:0/device:TPU:4, TPU, 0, 0)\n"
          ]
        },
        {
          "output_type": "stream",
          "name": "stdout",
          "text": [
            "INFO:tensorflow:*** Available Device: _DeviceAttributes(/job:worker/replica:0/task:0/device:TPU:5, TPU, 0, 0)\n"
          ]
        },
        {
          "output_type": "stream",
          "name": "stderr",
          "text": [
            "INFO:tensorflow:*** Available Device: _DeviceAttributes(/job:worker/replica:0/task:0/device:TPU:5, TPU, 0, 0)\n"
          ]
        },
        {
          "output_type": "stream",
          "name": "stdout",
          "text": [
            "INFO:tensorflow:*** Available Device: _DeviceAttributes(/job:worker/replica:0/task:0/device:TPU:6, TPU, 0, 0)\n"
          ]
        },
        {
          "output_type": "stream",
          "name": "stderr",
          "text": [
            "INFO:tensorflow:*** Available Device: _DeviceAttributes(/job:worker/replica:0/task:0/device:TPU:6, TPU, 0, 0)\n"
          ]
        },
        {
          "output_type": "stream",
          "name": "stdout",
          "text": [
            "INFO:tensorflow:*** Available Device: _DeviceAttributes(/job:worker/replica:0/task:0/device:TPU:7, TPU, 0, 0)\n"
          ]
        },
        {
          "output_type": "stream",
          "name": "stderr",
          "text": [
            "INFO:tensorflow:*** Available Device: _DeviceAttributes(/job:worker/replica:0/task:0/device:TPU:7, TPU, 0, 0)\n"
          ]
        },
        {
          "output_type": "stream",
          "name": "stdout",
          "text": [
            "INFO:tensorflow:*** Available Device: _DeviceAttributes(/job:worker/replica:0/task:0/device:TPU_SYSTEM:0, TPU_SYSTEM, 0, 0)\n"
          ]
        },
        {
          "output_type": "stream",
          "name": "stderr",
          "text": [
            "INFO:tensorflow:*** Available Device: _DeviceAttributes(/job:worker/replica:0/task:0/device:TPU_SYSTEM:0, TPU_SYSTEM, 0, 0)\n"
          ]
        },
        {
          "output_type": "stream",
          "name": "stdout",
          "text": [
            "INFO:tensorflow:*** Available Device: _DeviceAttributes(/job:worker/replica:0/task:0/device:XLA_CPU:0, XLA_CPU, 0, 0)\n"
          ]
        },
        {
          "output_type": "stream",
          "name": "stderr",
          "text": [
            "INFO:tensorflow:*** Available Device: _DeviceAttributes(/job:worker/replica:0/task:0/device:XLA_CPU:0, XLA_CPU, 0, 0)\n"
          ]
        },
        {
          "output_type": "stream",
          "name": "stdout",
          "text": [
            "Number of replicas: 8\n"
          ]
        }
      ],
      "source": [
        "try:\n",
        "    tpu = tf.distribute.cluster_resolver.TPUClusterResolver.connect()\n",
        "    print(\"Device:\", tpu.master())\n",
        "    strategy = tf.distribute.TPUStrategy(tpu)\n",
        "except:\n",
        "    strategy = tf.distribute.get_strategy()\n",
        "print(\"Number of replicas:\", strategy.num_replicas_in_sync)"
      ]
    },
    {
      "cell_type": "code",
      "execution_count": null,
      "metadata": {
        "id": "1atxfdXPal1X"
      },
      "outputs": [],
      "source": [
        "N_CHANNELS = 3\n",
        "N_CLASSES = 1 # use 1 for binary \n",
        "\n",
        "REPLICAS = strategy.num_replicas_in_sync\n",
        "IMAGES_PER_REPLICA = 8 \n",
        "BATCH_SIZE = IMAGES_PER_REPLICA * REPLICAS\n",
        "\n",
        "EPOCHS = 25\n",
        "buffer_size = 10000 #(used for data shuffling OOM if too large)"
      ]
    },
    {
      "cell_type": "code",
      "execution_count": null,
      "metadata": {
        "colab": {
          "base_uri": "https://localhost:8080/"
        },
        "id": "Asr6JnU-aucZ",
        "outputId": "27d76277-8d2d-4eb3-b86e-e953227c34b7"
      },
      "outputs": [
        {
          "output_type": "stream",
          "name": "stdout",
          "text": [
            "Batch size:  64\n",
            "Number of replicas:  8\n"
          ]
        }
      ],
      "source": [
        "print(\"Batch size: \",BATCH_SIZE)\n",
        "print(\"Number of replicas: \",REPLICAS)"
      ]
    },
    {
      "cell_type": "code",
      "execution_count": null,
      "metadata": {
        "id": "zy_fCyBvWy7V"
      },
      "outputs": [],
      "source": [
        "GCS_PATH_2020 = \"gs://kds-ed7c1b597b888a88f14584d0ecf31b4631aae337716d0cc0ccd73d3c\"\n",
        "TRAIN_2020 = tf.io.gfile.glob(GCS_PATH_2020 + '/train*.tfrec')"
      ]
    },
    {
      "cell_type": "code",
      "execution_count": null,
      "metadata": {
        "id": "pj3oH_GfBOeP"
      },
      "outputs": [],
      "source": [
        "def read_labeled_tfrecord(example):\n",
        "    LABELED_TFREC_FORMAT = {\n",
        "        'image': tf.io.FixedLenFeature([], tf.string), \n",
        "        'image_name' : tf.io.FixedLenFeature([], tf.string),\n",
        "        'target': tf.io.FixedLenFeature([], tf.int64), \n",
        "    }\n",
        "    example = tf.io.parse_single_example(example, LABELED_TFREC_FORMAT)\n",
        "    return example['image'], example['image_name'], example['target'] \n",
        "\n",
        "def read_unlabeled_tfrecord(example):\n",
        "    UNLABELED_TFREC_FORMAT = {\n",
        "        'image': tf.io.FixedLenFeature([], tf.string), \n",
        "        'image_name': tf.io.FixedLenFeature([], tf.string), \n",
        "    }\n",
        "    example = tf.io.parse_single_example(example, UNLABELED_TFREC_FORMAT)\n",
        "    return example['image'], example['image_name']\n",
        "\n",
        "def load_dataset(filenames, labeled = True, ordered = False):\n",
        "    dataset = tf.data.TFRecordDataset(filenames, num_parallel_reads=AUTO)\n",
        "    if not ordered: \n",
        "        ignore_order = tf.data.Options()\n",
        "        ignore_order.experimental_deterministic = False \n",
        "        dataset = dataset.with_options(ignore_order)\n",
        "    dataset = dataset.map(read_labeled_tfrecord if labeled else \n",
        "                          read_unlabeled_tfrecord, num_parallel_calls=AUTO)\n",
        "    return dataset"
      ]
    },
    {
      "cell_type": "code",
      "execution_count": null,
      "metadata": {
        "id": "mdYHT3Ok_9GE"
      },
      "outputs": [],
      "source": [
        "def count_data_items(filenames):\n",
        "    # the number of data items is written in the name of the .tfrec files, i.e. flowers00-230.tfrec = 230 data items\n",
        "    n = [int(re.compile(r\"-([0-9]*)\\.\").search(filename).group(1)) for filename in filenames]\n",
        "    return np.sum(n)"
      ]
    },
    {
      "cell_type": "code",
      "execution_count": null,
      "metadata": {
        "colab": {
          "base_uri": "https://localhost:8080/"
        },
        "id": "AhjKbecBFPmh",
        "outputId": "be13f886-769f-48b8-c7ea-12cdf7ac2ba2"
      },
      "outputs": [
        {
          "output_type": "stream",
          "name": "stdout",
          "text": [
            "/content/drive/MyDrive/FourthBrain/Capstone Project/Notebooks\n"
          ]
        }
      ],
      "source": [
        "cd /content/drive/MyDrive/FourthBrain/Capstone\\ Project/Notebooks"
      ]
    },
    {
      "cell_type": "code",
      "execution_count": null,
      "metadata": {
        "id": "0Jb1olKgIaLz",
        "colab": {
          "base_uri": "https://localhost:8080/"
        },
        "outputId": "dd69eaec-4072-4ba1-c128-5626ad2e83fd"
      },
      "outputs": [
        {
          "output_type": "stream",
          "name": "stdout",
          "text": [
            "\u001b[?25l\r\u001b[K     |██████▌                         | 10 kB 33.9 MB/s eta 0:00:01\r\u001b[K     |█████████████                   | 20 kB 19.1 MB/s eta 0:00:01\r\u001b[K     |███████████████████▍            | 30 kB 10.9 MB/s eta 0:00:01\r\u001b[K     |█████████████████████████▉      | 40 kB 9.3 MB/s eta 0:00:01\r\u001b[K     |████████████████████████████████| 50 kB 3.0 MB/s \n",
            "\u001b[?25h"
          ]
        }
      ],
      "source": [
        "!pip install -q efficientnet\n",
        "import efficientnet.tfkeras as efn"
      ]
    },
    {
      "cell_type": "code",
      "execution_count": null,
      "metadata": {
        "id": "MQ58qk70FYDw"
      },
      "outputs": [],
      "source": [
        "from helper_functions.utils import *"
      ]
    },
    {
      "cell_type": "code",
      "source": [
        "def countRecords(ds:tf.data.Dataset):\n",
        "  count = 0\n",
        "\n",
        "  if tf.executing_eagerly():\n",
        "    # TF v2 or v1 in eager mode\n",
        "    for r in ds:\n",
        "      count = count+1\n",
        "  else:  \n",
        "    # TF v1 in non-eager mode\n",
        "    iterator = tf.compat.v1.data.make_one_shot_iterator(ds)\n",
        "    next_batch = iterator.get_next()\n",
        "    with tf.compat.v1.Session() as sess:\n",
        "      try:\n",
        "        while True:\n",
        "          sess.run(next_batch)\n",
        "          count = count+1    \n",
        "      except tf.errors.OutOfRangeError:\n",
        "        pass\n",
        "  \n",
        "  return count"
      ],
      "metadata": {
        "id": "HGdej6OCer54"
      },
      "execution_count": null,
      "outputs": []
    },
    {
      "cell_type": "code",
      "source": [
        "def load_dataset_new(filenames, labeled = True, ordered = False):\n",
        "    dataset = tf.data.TFRecordDataset(filenames, num_parallel_reads=AUTO)\n",
        "    ignore_order = tf.data.Options()\n",
        "    ignore_order.experimental_deterministic = ordered \n",
        "    dataset = dataset.with_options(ignore_order)\n",
        "    dataset = dataset.map(read_labeled_tfrecord if labeled else \n",
        "                          read_unlabeled_tfrecord, num_parallel_calls=AUTO)\n",
        "    return dataset"
      ],
      "metadata": {
        "id": "R2nD00CRR0Xr"
      },
      "execution_count": null,
      "outputs": []
    },
    {
      "cell_type": "code",
      "source": [
        "def getTrainingElements(image, target):\n",
        "  return image, target"
      ],
      "metadata": {
        "id": "RAD42Ku2rNqu"
      },
      "execution_count": null,
      "outputs": []
    },
    {
      "cell_type": "code",
      "source": [
        "def get_built_train_dataset(built_train_dataset,buf_size):\n",
        "  built_train_dataset = built_train_dataset.map(lambda image, image_name, target:\n",
        "                                          getTrainingElements(image, target), \n",
        "                                          num_parallel_calls=AUTO)\n",
        "  built_train_dataset = built_train_dataset.repeat() \n",
        "  built_train_dataset = built_train_dataset.shuffle(buffer_size = buf_size)\n",
        "  built_train_dataset = built_train_dataset.batch(BATCH_SIZE)\n",
        "  built_train_dataset = built_train_dataset.prefetch(AUTO)\n",
        "\n",
        "  return built_train_dataset \n"
      ],
      "metadata": {
        "id": "T2w5v0cFm9yH"
      },
      "execution_count": null,
      "outputs": []
    },
    {
      "cell_type": "code",
      "source": [
        "def get_built_valid_dataset(built_valid_dataset):\n",
        "  built_valid_dataset = built_valid_dataset.map(lambda image, image_name, target:\n",
        "                                          getTrainingElements(image, target), \n",
        "                                          num_parallel_calls=AUTO)\n",
        "  built_valid_dataset = built_valid_dataset.batch(BATCH_SIZE)\n",
        "  built_valid_dataset = built_valid_dataset.cache() \n",
        "  built_valid_dataset = built_valid_dataset.prefetch(AUTO)\n",
        "\n",
        "  return built_valid_dataset"
      ],
      "metadata": {
        "id": "i2kJrH_CnoPz"
      },
      "execution_count": null,
      "outputs": []
    },
    {
      "cell_type": "code",
      "source": [
        "def get_built_test_dataset(built_test_dataset):\n",
        "  #built_test_dataset = built_test_dataset.batch(1000)\n",
        "  # built_test_dataset = built_test_dataset.map(lambda image, image_name, target:image_name, \n",
        "  #                                         num_parallel_calls=AUTO)\n",
        "  built_test_dataset = built_test_dataset.cache() \n",
        "  built_test_dataset = built_test_dataset.prefetch(AUTO)\n",
        "  \n",
        "  return built_test_dataset"
      ],
      "metadata": {
        "id": "k9eO6Lasp1ez"
      },
      "execution_count": null,
      "outputs": []
    },
    {
      "cell_type": "code",
      "source": [
        "def is_test(x, y):\n",
        "  return x % 10 == 7\n",
        "\n",
        "def is_train(x, y):\n",
        "  return x % 10 <7\n",
        "\n",
        "def is_valid(x, y):\n",
        "  return x % 10 >7\n",
        "\n",
        "def splitDataset(dataset,shuffle=False):\n",
        "  countRecs = countRecords(dataset)\n",
        "  recover = lambda x,y: y\n",
        "  if shuffle:\n",
        "    dataset = dataset.shuffle(countRecs, reshuffle_each_iteration=False)\n",
        "\n",
        "  test_dataset = dataset.enumerate().filter(is_test).map(lambda x,y: y) \n",
        "  val_dataset = dataset.enumerate().filter(is_valid).map(lambda x,y: y) \n",
        "  train_dataset = dataset.enumerate().filter(is_train).map(lambda x,y: y)\n",
        "\n",
        "  return train_dataset, val_dataset, test_dataset\n",
        "\n"
      ],
      "metadata": {
        "id": "AEZLMdmxqgAW"
      },
      "execution_count": null,
      "outputs": []
    },
    {
      "cell_type": "code",
      "source": [
        "def decode_image_new(image_data, image_name, label, resize, target_size):\n",
        "    # Used for the validation set (for now)\n",
        "    image = tf.image.decode_jpeg(image_data, channels=N_CHANNELS)\n",
        "    image = tf.cast(image, tf.float32) / 255.0  # convert image to floats in [0, 1] range\n",
        "    if resize:\n",
        "        image = tf.image.resize(image, target_size)\n",
        "    image = tf.reshape(image, [*target_size, N_CHANNELS]) # explicit size NEEDED for TPU\n",
        "    return image, image_name, label"
      ],
      "metadata": {
        "id": "yn2nIgCO_P3J"
      },
      "execution_count": null,
      "outputs": []
    },
    {
      "cell_type": "code",
      "source": [
        "def data_augment_new(image, image_name, label_or_id, DIM, target_size, augm_method): \n",
        "    # image = tf.image.decode_jpeg(image, channels=N_CHANNELS)\n",
        "    # image = tf.cast(image, tf.float32) / 255.0  # convert image to floats in [0, 1] range\n",
        "    # image = tf.image.resize(image, target_size)\n",
        "\n",
        "    # during TTA, label_or_id will be image_name for test set.\n",
        "    if augm_method == 1:\n",
        "    #if tf.keras.backend.random_bernoulli((1,), p=0.4) > 0:\n",
        "        image = rotate_img(image, DIM = DIM)\n",
        "    elif augm_method == 2:\n",
        "    #elif tf.keras.backend.random_bernoulli((1,), p=0.2) > 0:\n",
        "        image = shear_img(image, DIM = DIM)\n",
        "    elif augm_method == 3:\n",
        "      image = tf.image.random_flip_left_right(image)\n",
        "    elif augm_method == 4:\n",
        "      image = tf.image.random_flip_up_down(image)\n",
        "    elif augm_method == 5:\n",
        "      image = tf.image.random_hue(image, 0.025)\n",
        "    elif augm_method == 6:\n",
        "      image = tf.image.random_saturation(image, 0.7, 1.4)\n",
        "    elif augm_method == 7:\n",
        "      image = tf.image.random_contrast(image, 0.7, 1.4)\n",
        "    elif augm_method == 8:\n",
        "      image = tf.image.random_brightness(image, 0.2)\n",
        "\n",
        "    #image = tf.reshape(image, [*target_size, N_CHANNELS]) # explicit size NEEDED for TPU\n",
        "    return image, image_name, label_or_id"
      ],
      "metadata": {
        "id": "hja1o0XDtpfK"
      },
      "execution_count": null,
      "outputs": []
    },
    {
      "cell_type": "code",
      "source": [
        "def augmentImages(dataset_test_true,dim):\n",
        "\n",
        "  dataset_test_true_aug = dataset_test_true.map(lambda image, image_name, target: \n",
        "                            data_augment_new(image, image_name, target, dim, [dim, dim],1), \n",
        "                            num_parallel_calls=AUTO)\n",
        "  dataset_test_true_aug = dataset_test_true_aug.concatenate(dataset_test_true.map(lambda image, image_name, target: \n",
        "                            data_augment_new(image, image_name, target, dim, [dim, dim],2), \n",
        "                            num_parallel_calls=AUTO))\n",
        "  dataset_test_true_aug = dataset_test_true_aug.concatenate(dataset_test_true.map(lambda image, image_name, target: \n",
        "                            data_augment_new(image, image_name, target, dim, [dim, dim],3), \n",
        "                            num_parallel_calls=AUTO))\n",
        "  dataset_test_true_aug = dataset_test_true_aug.concatenate(dataset_test_true.map(lambda image, image_name, target: \n",
        "                            data_augment_new(image, image_name, target, dim, [dim, dim],4), \n",
        "                            num_parallel_calls=AUTO))\n",
        "  dataset_test_true_aug = dataset_test_true_aug.concatenate(dataset_test_true.map(lambda image, image_name, target: \n",
        "                            data_augment_new(image, image_name, target, dim, [dim, dim],5), \n",
        "                            num_parallel_calls=AUTO))\n",
        "  dataset_test_true_aug = dataset_test_true_aug.concatenate(dataset_test_true.map(lambda image, image_name, target: \n",
        "                            data_augment_new(image, image_name, target, dim, [dim, dim],6), \n",
        "                            num_parallel_calls=AUTO))\n",
        "  dataset_test_true_aug = dataset_test_true_aug.concatenate(dataset_test_true.map(lambda image, image_name, target: \n",
        "                            data_augment_new(image, image_name, target, dim, [dim, dim],7), \n",
        "                            num_parallel_calls=AUTO))\n",
        "  dataset_test_true_aug = dataset_test_true_aug.concatenate(dataset_test_true.map(lambda image, image_name, target: \n",
        "                            data_augment_new(image, image_name, target, dim, [dim, dim],8), \n",
        "                            num_parallel_calls=AUTO))\n",
        "\n",
        "  # dataset_test_true_aug = dataset_test_true_aug.concatenate(dataset_test_true.map(lambda image, image_name, target: \n",
        "  #                           data_augment_new(image, image_name, target, dim, [dim, dim],0), \n",
        "  #                           num_parallel_calls=AUTO))\n",
        "  dataset_test_true_aug = dataset_test_true_aug.cache()\n",
        "  dataset_test_true_aug = dataset_test_true_aug.prefetch(AUTO)\n",
        "\n",
        "  return dataset_test_true_aug"
      ],
      "metadata": {
        "id": "e62d_kv2yj_y"
      },
      "execution_count": null,
      "outputs": []
    },
    {
      "cell_type": "code",
      "source": [
        "def build_datasets_new(model_dict):\n",
        "    DIM = model_dict['DIM']\n",
        "\n",
        "    all_train_dataset_2020  = load_dataset_new([TRAIN_2020],ordered =False)\n",
        "\n",
        "    all_train_dataset_true  = all_train_dataset_2020.filter(lambda image, image_name, target: tf.reduce_all(tf.not_equal(target, [0])))\n",
        "    all_train_dataset_true = all_train_dataset_true.map(lambda image, image_name, target: \n",
        "                          decode_image_new(image, image_name, target, True, [DIM,DIM]),\n",
        "                          num_parallel_calls=AUTO)\n",
        "    all_train_dataset_true = all_train_dataset_true.cache() \n",
        "    all_train_dataset_true  = all_train_dataset_true.prefetch(AUTO)\n",
        "\n",
        "    train_dataset_true, val_dataset_true, test_dataset_true = splitDataset(all_train_dataset_true,shuffle=True)\n",
        "    count_train_true = countRecords(train_dataset_true)\n",
        "    count_valid_true = countRecords(val_dataset_true)\n",
        "    count_test_true  = countRecords(test_dataset_true)\n",
        "    print(\"============= Initial Malignant Data Counts ==============\")\n",
        "    print(\" Training : \",count_train_true)\n",
        "    print(\" Validation: \",count_valid_true)\n",
        "    print(\" Test : \",count_test_true)\n",
        "    print(\"==========================================================\")\n",
        "    train_dataset_true_aug = augmentImages(train_dataset_true,DIM)\n",
        "    count_train_true_aug = countRecords(train_dataset_true_aug)\n",
        "    print(\" Augmented Malignant Training Count : \",count_train_true_aug)\n",
        "    built_train_dataset_true = train_dataset_true_aug.concatenate(train_dataset_true)\n",
        "    count_built_train_true = countRecords(built_train_dataset_true)\n",
        "    print(\" All Malignant Training Count : \",count_built_train_true)\n",
        "\n",
        "    all_train_dataset_false = all_train_dataset_2020.filter(lambda image, image_name, target: tf.reduce_all(tf.not_equal(target, [1])))\n",
        "    all_train_dataset_false = all_train_dataset_false.map(lambda image, image_name, target: \n",
        "                          decode_image_new(image, image_name, target, True, [DIM,DIM]),\n",
        "                          num_parallel_calls=AUTO)\n",
        "    all_train_dataset_false = all_train_dataset_false.cache() \n",
        "    all_train_dataset_false  = all_train_dataset_false.prefetch(AUTO)\n",
        "\n",
        "    train_dataset_false, val_dataset_false, test_dataset_false = splitDataset(all_train_dataset_false,shuffle=True)\n",
        "    count_train_false = countRecords(train_dataset_false)\n",
        "    count_val_false   = countRecords(val_dataset_false) \n",
        "    count_test_false  = countRecords(test_dataset_false)\n",
        "    print(\"============= Initial Bening Data Counts ==============\")\n",
        "    print(\" Training : \",count_train_false)\n",
        "    print(\" Validation: \",count_val_false)\n",
        "    print(\" Test : \",count_test_false)\n",
        "    print(\"==========================================================\")\n",
        "    # train_dataset_false = train_dataset_false.take(count_built_train_true)\n",
        "    # val_dataset_false = val_dataset_false.take(count_valid_true*2)\n",
        "    # test_dataset_false = val_dataset_false.take(count_test_true*2)\n",
        "    count_built_train_false = countRecords(train_dataset_false)\n",
        "    count_built_val_false   = countRecords(val_dataset_false) \n",
        "    count_built_test_false  = countRecords(test_dataset_false)\n",
        "    print(\"============= Selected Bening Data Counts ==============\")\n",
        "    print(\" Training : \",count_built_train_false)\n",
        "    print(\" Validation: \",count_built_val_false)\n",
        "    print(\" Test : \",count_built_test_false)\n",
        "    print(\"==========================================================\")\n",
        "\n",
        "    built_train_dataset = train_dataset_false.concatenate(built_train_dataset_true)\n",
        "    built_valid_dataset = val_dataset_false.concatenate(val_dataset_true)\n",
        "    built_test_dataset  = test_dataset_false.concatenate(test_dataset_true)\n",
        "    \n",
        "    NUM_TRAINING_IMAGES = countRecords(built_train_dataset)\n",
        "    NUM_VALIDATION_IMAGES = countRecords(built_valid_dataset)\n",
        "    NUM_TEST_IMAGES = countRecords(built_test_dataset)\n",
        "    STEPS_PER_EPOCH = np.ceil(NUM_TRAINING_IMAGES/BATCH_SIZE).astype(int) \n",
        "\n",
        "    built_train_dataset = get_built_train_dataset(built_train_dataset,NUM_TRAINING_IMAGES)\n",
        "\n",
        "    built_valid_dataset = get_built_valid_dataset(built_valid_dataset)\n",
        "\n",
        "    built_test_dataset = get_built_test_dataset(built_test_dataset)\n",
        "    #LIST_BULD_TESTDATASET.append({model_dict[\"name\"]:built_test_dataset})\n",
        "\n",
        "    print(\"============= Final Built Data Counts ==============\")\n",
        "    print(\" Training : \",NUM_TRAINING_IMAGES)\n",
        "    print(\" Validation: \",NUM_VALIDATION_IMAGES)\n",
        "    print(\" Test : \",NUM_TEST_IMAGES)\n",
        "    print(\"==========================================================\")\n",
        "\n",
        "    print('\\n')\n",
        "    describe_ds(built_train_dataset)\n",
        "    describe_ds(built_valid_dataset)\n",
        "    describe_ds(built_test_dataset)\n",
        "    return built_train_dataset, built_valid_dataset, built_test_dataset, STEPS_PER_EPOCH, [NUM_TRAINING_IMAGES, NUM_VALIDATION_IMAGES, NUM_TEST_IMAGES], [count_built_train_true, count_built_train_false]"
      ],
      "metadata": {
        "id": "y9q0xtPiPqb6"
      },
      "execution_count": null,
      "outputs": []
    },
    {
      "cell_type": "code",
      "source": [
        "def showAugmentedImages(dataset_orig, dataset_aug, idx=0):\n",
        "  countAug = countRecords(dataset_aug)\n",
        "  countOrg = countRecords(dataset_orig)\n",
        "  list_imgs = []\n",
        "\n",
        "  image, image_name, label = next(iter(dataset_aug.skip(idx)))\n",
        "  if label ==1:\n",
        "    img_label = \"MALIGNANT\"\n",
        "  elif label ==0:\n",
        "    img_label = \"BENIGN\"\n",
        "  plt.imshow(image)\n",
        "  plt.title(\"Original Image (\" + str(image_name.numpy())+\" => \"+ img_label+\" )\")\n",
        "  plt.axis(\"off\")\n",
        "\n",
        "  for i in range(8):\n",
        "    i += ((countOrg-1)*i)+idx\n",
        "    print(\" ==> \",i)\n",
        "    image, image_name, label = next(iter(dataset_aug.skip(i)))\n",
        "    imgAug = {\n",
        "        \"image\":image,\n",
        "        \"image_name\":image_name,\n",
        "        \"label\":label\n",
        "    }\n",
        "    list_imgs.append(imgAug)\n",
        "  plt.figure(figsize=(25, 25))\n",
        "  for index,imgs in enumerate(list_imgs):\n",
        "    ax = plt.subplot(5, 5, index + 1)\n",
        "    plt.imshow(imgs.get(\"image\"))\n",
        "    if imgs.get(\"label\") ==1:\n",
        "      img_label = \"MALIGNANT\"\n",
        "    elif imgs.get(\"label\") ==0:\n",
        "      img_label = \"BENIGN\"\n",
        "    plt.title(str(imgs.get(\"image_name\").numpy())+\" => \"+ img_label)\n",
        "    plt.axis(\"off\")\n"
      ],
      "metadata": {
        "id": "Oz3_VzISWMTJ"
      },
      "execution_count": null,
      "outputs": []
    },
    {
      "cell_type": "markdown",
      "metadata": {
        "id": "zMkYHOE-ueJs"
      },
      "source": [
        "# **Data Visualization**"
      ]
    },
    {
      "cell_type": "code",
      "execution_count": null,
      "metadata": {
        "colab": {
          "base_uri": "https://localhost:8080/"
        },
        "id": "DNm5CjR9u3sG",
        "outputId": "353315b3-9fc7-4f44-e46b-cce8170bf958"
      },
      "outputs": [
        {
          "output_type": "stream",
          "name": "stderr",
          "text": [
            "/usr/local/lib/python3.7/dist-packages/tensorflow/python/util/dispatch.py:1096: UserWarning: `tf.keras.backend.random_binomial` is deprecated, and will be removed in a future version.Please use `tf.keras.backend.random_bernoulli` instead.\n",
            "  return dispatch_target(*args, **kwargs)\n"
          ]
        }
      ],
      "source": [
        "gen_examples = True #@param {type:\"boolean\"}\n",
        "num_batches = 5 #@param [2, 3, 5, 10] {type:'raw'}\n",
        "\n",
        "if gen_examples:\n",
        "    temp_filenames, _ = get_fold_file_lists(folds[4], data_2018=False)\n",
        "    temp_dataset = get_training_dataset(temp_filenames, 224)\n",
        "    raw_tuples = generate_examples(ds = temp_dataset, n_batches = num_batches)\n",
        "    "
      ]
    },
    {
      "cell_type": "code",
      "execution_count": null,
      "metadata": {
        "colab": {
          "base_uri": "https://localhost:8080/",
          "height": 256
        },
        "id": "jBbqfzz7JC-q",
        "outputId": "7ef982f7-17ae-4718-b476-5cc6f57bf97e"
      },
      "outputs": [
        {
          "output_type": "stream",
          "name": "stdout",
          "text": [
            "Label: Benign\n",
            "Image size: (224, 224, 3)\n"
          ]
        },
        {
          "output_type": "display_data",
          "data": {
            "image/png": "[encoded data removed]",
            "text/plain": [
              "<Figure size 252x252 with 1 Axes>"
            ]
          },
          "metadata": {
            "needs_background": "dark"
          }
        }
      ],
      "source": [
        "idx = 0\n",
        "if gen_examples:\n",
        "    if idx >= len(raw_tuples): idx = -1\n",
        "    example_tuple = raw_tuples[idx]\n",
        "    plot_example(example_tuple, print_size=True)\n",
        "else: print('examples have not been generated')"
      ]
    },
    {
      "cell_type": "code",
      "execution_count": null,
      "metadata": {
        "id": "8xntON_uMY6m"
      },
      "outputs": [],
      "source": [
        "def build_model(base, n_classes, shape, head_dropout = False):\n",
        "    inp = L.Input(shape=shape)\n",
        "    x = base(inp)\n",
        "    x = L.GlobalAveragePooling2D()(x)\n",
        "\n",
        "    if head_dropout:\n",
        "        x = L.Dropout(head_dropout)(x)\n",
        "\n",
        "    x_out = L.Dense(n_classes, activation='sigmoid')(x)\n",
        "    model = tf.keras.Model(inputs=inp, outputs=x_out, \n",
        "                           name='{}_base_model'.format(base.name.title()))\n",
        "    return model\n",
        "\n",
        "def ensemble_component(model_dict):\n",
        "    # Get Specs\n",
        "    base_model = model_dict['base_model']\n",
        "    DIM = model_dict['DIM']\n",
        "    weights = model_dict['weights']\n",
        "    opt = model_dict['opt']\n",
        "    head_dropout = model_dict['head_dropout']\n",
        "    INPUT_SHAPE = (DIM, DIM, N_CHANNELS)\n",
        "\n",
        "    # Build Model\n",
        "    K.clear_session()\n",
        "    with strategy.scope():\n",
        "        base = base_model(weights=weights, include_top=False, \n",
        "                          input_shape=INPUT_SHAPE)                                       \n",
        "        model = build_model(base, N_CLASSES, INPUT_SHAPE, \n",
        "                            head_dropout = head_dropout) \n",
        "        model.compile(optimizer=opt, loss=loss, metrics=['AUC','accuracy']) \n",
        "    return model, base.name"
      ]
    },
    {
      "cell_type": "markdown",
      "metadata": {
        "id": "1S30dqbpMgUe"
      },
      "source": [
        "# Learning Rate Schedule, Loss"
      ]
    },
    {
      "cell_type": "code",
      "execution_count": null,
      "metadata": {
        "colab": {
          "base_uri": "https://localhost:8080/",
          "height": 265
        },
        "id": "TFdASiPoMdy1",
        "outputId": "5201da3d-243f-473d-c28c-7d3920c9541e"
      },
      "outputs": [
        {
          "output_type": "display_data",
          "data": {
            "image/png": "[encoded data removed]",
            "text/plain": [
              "<Figure size 576x288 with 1 Axes>"
            ]
          },
          "metadata": {
            "needs_background": "dark"
          }
        }
      ],
      "source": [
        "lr_params =  [1e-5,  3e-4,  1e-6, 2, 2, 8e-1]\n",
        "\n",
        "def lrfn(epoch, lr_params = lr_params):\n",
        "    lr_start, lr_max, lr_min, lr_ramp_ep, lr_sus_ep, lr_decay = lr_params\n",
        "    if epoch < lr_ramp_ep:\n",
        "        lr = (lr_max - lr_start) / lr_ramp_ep * epoch + lr_start\n",
        "    elif epoch < lr_ramp_ep + lr_sus_ep:\n",
        "        lr = lr_max \n",
        "    else:\n",
        "        lr = (lr_max - lr_min)*lr_decay**(epoch - lr_ramp_ep - lr_sus_ep) + lr_min\n",
        "    return lr\n",
        "\n",
        "def lr_schedule_builder(params):\n",
        "    return tf.keras.callbacks.LearningRateScheduler(\n",
        "        lambda epoch: lrfn(epoch, params), verbose=False) \n",
        "\n",
        "lr_sched = lr_schedule_builder(lr_params)\n",
        "\n",
        "label_smoothing = 0.05\n",
        "loss = tf.keras.losses.BinaryCrossentropy(label_smoothing=label_smoothing) \n",
        "\n",
        "plot_lr_timeline(lrfn, lr_params, num_epochs = EPOCHS)"
      ]
    },
    {
      "cell_type": "markdown",
      "metadata": {
        "id": "dRbipz75MrXd"
      },
      "source": [
        "### Summary and Log Function"
      ]
    },
    {
      "cell_type": "code",
      "execution_count": null,
      "metadata": {
        "id": "Ac7Jk_1KMsBv"
      },
      "outputs": [],
      "source": [
        "def sess_summary(model_dict, counts, dataset_deets = True): \n",
        "    DIM = model_dict['DIM']\n",
        "    INPUT_SHAPE = (DIM, DIM, N_CHANNELS)\n",
        "    log_name = '{}_F{}_summary.txt'.format(model_dict['name'], model_dict['fold'])\n",
        "    with open(log_name, 'w') as f:\n",
        "        f.write('\\nBase: {}'.format(base_name.title()))\n",
        "        f.write('\\nFold num: {}'.format(model_dict['fold']))\n",
        "        f.write('\\nWeights: {}\\n'.format(model_dict['weights']))\n",
        "\n",
        "        if dataset_deets:\n",
        "            f.write('\\nValidation shards: {}'.format(folds[model_dict['fold']]['val']))\n",
        "            f.write('\\nTotal training images: {}'.format(counts[0]))\n",
        "            f.write('\\nTotal val images: {}'.format(counts[1]))\n",
        "            f.write('\\nBatch size: {}'.format(BATCH_SIZE))\n",
        "            f.write('\\nMax number of epochs: {}'.format(EPOCHS))\n",
        "            f.write('\\nSteps per epoch: {}\\n'.format(STEPS_PER_EPOCH))\n",
        "\n",
        "        f.write('\\nTPU implemented: {}'.format('Yes' if tpu != None else 'No'))\n",
        "        f.write('\\nNumber of replicas: {}'.format(strategy.num_replicas_in_sync))\n",
        "        f.write('\\nSize of input: {}'.format(INPUT_SHAPE))\n",
        "        f.write('\\nOptimizer: {}'.format(str(model_dict['opt']).split('.')[-2].title()))\n",
        "        f.write('\\nLR strategy: {}'.format(str(lr_sched).split('.')[2].split(' ')[0]))\n",
        "        f.write('\\nLR sched params: {}'.format(lr_params))\n",
        "        f.write('\\nLoss: {}'.format(str(loss).split('.')[2].split(' ')[0]))\n",
        "        f.write('\\nLabel smoothing: {}\\n\\n'.format(label_smoothing))\n",
        "    !cat {log_name}"
      ]
    },
    {
      "cell_type": "code",
      "source": [
        "def sess_summary_new(model_dict, counts, dataset_deets = True): \n",
        "    DIM = model_dict['DIM']\n",
        "    INPUT_SHAPE = (DIM, DIM, N_CHANNELS)\n",
        "    log_name = '{}_F{}_summary.txt'.format(model_dict['name'], model_dict['fold'])\n",
        "    with open(log_name, 'w') as f:\n",
        "        f.write('\\nBase: {}'.format(base_name.title()))\n",
        "        f.write('\\nWeights: {}\\n'.format(model_dict['weights']))\n",
        "\n",
        "        if dataset_deets:\n",
        "            f.write('\\nTotal training images: {}'.format(counts[0]))\n",
        "            f.write('\\nTotal val images: {}'.format(counts[1]))\n",
        "            f.write('\\nBatch size: {}'.format(BATCH_SIZE))\n",
        "            f.write('\\nMax number of epochs: {}'.format(EPOCHS))\n",
        "            f.write('\\nSteps per epoch: {}\\n'.format(STEPS_PER_EPOCH))\n",
        "\n",
        "        f.write('\\nTPU implemented: {}'.format('Yes' if tpu != None else 'No'))\n",
        "        f.write('\\nNumber of replicas: {}'.format(strategy.num_replicas_in_sync))\n",
        "        f.write('\\nSize of input: {}'.format(INPUT_SHAPE))\n",
        "        f.write('\\nOptimizer: {}'.format(str(model_dict['opt']).split('.')[-2].title()))\n",
        "        f.write('\\nLR strategy: {}'.format(str(lr_sched).split('.')[2].split(' ')[0]))\n",
        "        f.write('\\nLR sched params: {}'.format(lr_params))\n",
        "        f.write('\\nLoss: {}'.format(str(loss).split('.')[2].split(' ')[0]))\n",
        "        f.write('\\nLabel smoothing: {}\\n\\n'.format(label_smoothing))\n",
        "    !cat {log_name}"
      ],
      "metadata": {
        "id": "zs4lTC6bzpi3"
      },
      "execution_count": null,
      "outputs": []
    },
    {
      "cell_type": "markdown",
      "metadata": {
        "id": "RcmMrc8vOvQR"
      },
      "source": [
        "# **Training**"
      ]
    },
    {
      "cell_type": "code",
      "execution_count": null,
      "metadata": {
        "cellView": "code",
        "id": "la3oM60JOU1D"
      },
      "outputs": [],
      "source": [
        "#@title Training Dictionaries (Training Parameters)\n",
        "#@markdown - EfficientNet B3\n",
        "EB3_F0 = {'base_model': efn_dict[3]['model'], \n",
        "            'DIM': efn_dict[3]['size'],\n",
        "            'opt': opts['Nadam'],\n",
        "            'weights': 'noisy-student',\n",
        "            'head_dropout': 0.5, \n",
        "            'name': 'EB3',\n",
        "            'fold': 0}  \n",
        "\n",
        "EB3_F1 = {'base_model': efn_dict[3]['model'], \n",
        "            'DIM': efn_dict[3]['size'],\n",
        "            'opt': opts['Nadam'],\n",
        "            'weights': 'noisy-student',\n",
        "            'head_dropout': 0.5, \n",
        "            'name': 'EB3',\n",
        "            'fold': 1}  \n",
        "\n",
        "EB3_F2 = {'base_model': efn_dict[3]['model'], \n",
        "            'DIM': efn_dict[3]['size'],\n",
        "            'opt': opts['Radam'],\n",
        "            'weights': 'noisy-student',\n",
        "            'head_dropout': False, \n",
        "            'name': 'EB3',\n",
        "            'fold': 2}  \n",
        "\n",
        "EB3_F3 = {'base_model': efn_dict[3]['model'], \n",
        "            'DIM': efn_dict[3]['size'],\n",
        "            'opt': opts['Radam'],\n",
        "            'weights': 'noisy-student',\n",
        "            'head_dropout': 0.2, \n",
        "            'name': 'EB3',\n",
        "            'fold': 3}\n",
        "\n",
        "EB3_F4 = {'base_model': efn_dict[3]['model'], \n",
        "            'DIM': efn_dict[3]['size'],\n",
        "            'opt': opts['Radam'],\n",
        "            'weights': 'noisy-student',\n",
        "            'head_dropout': False, \n",
        "            'name': 'EB4',\n",
        "            'fold': 4}\n",
        "\n",
        "#@markdown - EfficientNet B4 \n",
        "EB4_F0 = {'base_model': efn_dict[4]['model'],\n",
        "            'DIM': efn_dict[4]['size'],\n",
        "            'opt': opts['Nadam'],\n",
        "            'weights': 'noisy-student',\n",
        "            'head_dropout': False,\n",
        "            'name': 'EB4',\n",
        "            'fold': 0}\n",
        "\n",
        "EB4_F1 = {'base_model': efn_dict[4]['model'],\n",
        "            'DIM': efn_dict[4]['size'],\n",
        "            'opt': opts['Radam'],\n",
        "            'weights': 'noisy-student',\n",
        "            'head_dropout': False,\n",
        "            'name': 'EB4',\n",
        "            'fold': 1}\n",
        "\n",
        "EB4_F2 = {'base_model': efn_dict[4]['model'],\n",
        "            'DIM': efn_dict[4]['size'],\n",
        "            'opt': opts['Nadam'],\n",
        "            'weights': 'noisy-student',\n",
        "            'head_dropout': False,\n",
        "            'name': 'EB4',\n",
        "            'fold': 2}\n",
        "\n",
        "EB4_F3 = {'base_model': efn_dict[4]['model'], \n",
        "            'DIM': efn_dict[4]['size'],\n",
        "            'opt': opts['Nadam'],\n",
        "            'weights': 'noisy-student',\n",
        "            'head_dropout': False,\n",
        "            'name': 'EB4',\n",
        "            'fold': 3}  \n",
        "\n",
        "EB4_F4 = {'base_model': efn_dict[4]['model'], \n",
        "            'DIM': efn_dict[4]['size'],\n",
        "            'opt': opts['Nadam'],\n",
        "            'weights': 'noisy-student',\n",
        "            'head_dropout': False, \n",
        "            'name': 'EB4',\n",
        "            'fold': 4}\n",
        "\n",
        "EB5_F1 = {'base_model': efn_dict[5]['model'], \n",
        "            'DIM': efn_dict[5]['size'],\n",
        "            'opt': opts['Nadam'],\n",
        "            'weights': 'noisy-student',\n",
        "            'head_dropout': 0.2, \n",
        "            'name': 'EB5',\n",
        "            'fold': 1}\n",
        "#@markdown - EfficientNet B6 \n",
        "EB6_F0 = {'base_model': efn_dict[6]['model'],\n",
        "            'DIM': efn_dict[6]['size'],\n",
        "            'opt': opts['Nadam'],\n",
        "            'weights': 'noisy-student',\n",
        "            'head_dropout': False,\n",
        "            'name': 'EB6',\n",
        "            'fold': 0}\n",
        "\n",
        "EB6_F1 = {'base_model': efn_dict[6]['model'],\n",
        "            'DIM': efn_dict[6]['size'],\n",
        "            'opt': opts['Radam'],\n",
        "            'weights': 'imagenet',\n",
        "            'head_dropout': 0.5,\n",
        "            'name': 'EB6',\n",
        "            'fold': 1}\n",
        "\n",
        "EB6_F2 = {'base_model': efn_dict[6]['model'],\n",
        "            'DIM': efn_dict[6]['size'],\n",
        "            'opt': opts['Nadam'],\n",
        "            'weights': 'noisy-student',\n",
        "            'head_dropout': False,\n",
        "            'name': 'EB6',\n",
        "            'fold': 2}\n",
        "\n",
        "EB6_F3 = {'base_model': efn_dict[6]['model'], \n",
        "            'DIM': efn_dict[6]['size'],\n",
        "            'opt': opts['Nadam'],\n",
        "            'weights': 'noisy-student',\n",
        "            'head_dropout': 0.2,\n",
        "            'name': 'EB6',\n",
        "            'fold': 3}\n",
        "\n",
        "EB6_F4 = {'base_model': efn_dict[6]['model'],\n",
        "            'DIM': efn_dict[6]['size'],\n",
        "            'opt': opts['Nadam'],\n",
        "            'weights': 'noisy-student',\n",
        "            'head_dropout': False,\n",
        "            'name': 'EB6',\n",
        "            'fold': 4}"
      ]
    },
    {
      "cell_type": "code",
      "execution_count": null,
      "metadata": {
        "id": "Yfd5ZWc0Og15"
      },
      "outputs": [],
      "source": [
        "ensemble_components = [EB5_F1]"
      ]
    },
    {
      "cell_type": "code",
      "execution_count": null,
      "metadata": {
        "id": "GQJDFhAZjGnh"
      },
      "outputs": [],
      "source": [
        "list_history = []"
      ]
    },
    {
      "cell_type": "code",
      "source": [
        "dict_test_dataset = {}"
      ],
      "metadata": {
        "id": "ZNafwhhs-t6m"
      },
      "execution_count": null,
      "outputs": []
    },
    {
      "cell_type": "code",
      "source": [
        "from sklearn.utils.class_weight import compute_class_weight"
      ],
      "metadata": {
        "id": "sOzjCsi9S3qb"
      },
      "execution_count": null,
      "outputs": []
    },
    {
      "cell_type": "code",
      "source": [
        "train_targets = np.array([target.numpy() for target in iter(train_targets_ds)])"
      ],
      "metadata": {
        "id": "XFRCHYFhauin"
      },
      "execution_count": null,
      "outputs": []
    },
    {
      "cell_type": "code",
      "source": [
        "yes = target_counts[0]\n",
        "no = target_counts[1]\n",
        "total = no + yes"
      ],
      "metadata": {
        "id": "AXhPQQUde620"
      },
      "execution_count": null,
      "outputs": []
    },
    {
      "cell_type": "code",
      "source": [
        "yes"
      ],
      "metadata": {
        "colab": {
          "base_uri": "https://localhost:8080/"
        },
        "id": "kRqVFA0ZfMaE",
        "outputId": "c7d6d664-b6bf-49c8-ae37-efaaf590708a"
      },
      "execution_count": null,
      "outputs": [
        {
          "output_type": "execute_result",
          "data": {
            "text/plain": [
              "3663"
            ]
          },
          "metadata": {},
          "execution_count": 58
        }
      ]
    },
    {
      "cell_type": "code",
      "source": [
        "no"
      ],
      "metadata": {
        "colab": {
          "base_uri": "https://localhost:8080/"
        },
        "id": "RknfbShXfNpq",
        "outputId": "d2065de7-fe3c-45b7-b4b8-a50f7cb7f0c0"
      },
      "execution_count": null,
      "outputs": [
        {
          "output_type": "execute_result",
          "data": {
            "text/plain": [
              "22478"
            ]
          },
          "metadata": {},
          "execution_count": 59
        }
      ]
    },
    {
      "cell_type": "code",
      "source": [
        "train_dataset, valid_dataset, test_dataset, STEPS_PER_EPOCH, counts, target_counts = build_datasets_new(component_dict)"
      ],
      "metadata": {
        "colab": {
          "base_uri": "https://localhost:8080/"
        },
        "id": "zFqi6X8pdAxM",
        "outputId": "e2fa02fd-04bc-4ad7-e570-b314b2759d35"
      },
      "execution_count": null,
      "outputs": [
        {
          "output_type": "stream",
          "name": "stdout",
          "text": [
            "============= Initial Malignant Data Counts ==============\n",
            " Training :  407\n",
            " Validation:  116\n",
            " Test :  58\n",
            "==========================================================\n",
            " Augmented Malignant Training Count :  3256\n",
            " All Malignant Training Count :  3663\n",
            "============= Initial Bening Data Counts ==============\n",
            " Training :  22478\n",
            " Validation:  6422\n",
            " Test :  3211\n",
            "==========================================================\n",
            "============= Selected Bening Data Counts ==============\n",
            " Training :  22478\n",
            " Validation:  6422\n",
            " Test :  3211\n",
            "==========================================================\n",
            "============= Final Built Data Counts ==============\n",
            " Training :  26141\n",
            " Validation:  6538\n",
            " Test :  3269\n",
            "==========================================================\n",
            "\n",
            "\n",
            "Dataset: shapes: ((None, 456, 456, 3), (None,)), types: (tf.float32, tf.int64)\n",
            "Dataset: shapes: ((None, 456, 456, 3), (None,)), types: (tf.float32, tf.int64)\n",
            "Dataset: shapes: ((456, 456, 3), (), ()), types: (tf.float32, tf.string, tf.int64)\n"
          ]
        }
      ]
    },
    {
      "cell_type": "code",
      "source": [
        "yes = target_counts[0]\n",
        "no = target_counts[1]\n",
        "total = no + yes"
      ],
      "metadata": {
        "id": "tzMa29MlftRi"
      },
      "execution_count": null,
      "outputs": []
    },
    {
      "cell_type": "code",
      "source": [
        "weight_for_0 = (1 / no)*(total)/2.0 \n",
        "weight_for_1 = (1 / yes)*(total)/2.0\n",
        "\n",
        "class_weight = {0: weight_for_0, 1: weight_for_1}\n",
        "\n",
        "print('Weight for class 0: {:.2f}'.format(weight_for_0))\n",
        "print('Weight for class 1: {:.2f}'.format(weight_for_1))"
      ],
      "metadata": {
        "colab": {
          "base_uri": "https://localhost:8080/"
        },
        "id": "so-d4inCc3Vd",
        "outputId": "4c7f9b86-bd79-417b-9d20-e9ed380728bb"
      },
      "execution_count": null,
      "outputs": [
        {
          "output_type": "stream",
          "name": "stdout",
          "text": [
            "Weight for class 0: 0.58\n",
            "Weight for class 1: 3.57\n"
          ]
        }
      ]
    },
    {
      "cell_type": "code",
      "source": [
        "total = no + yes\n",
        "print('Examples:\\n    Total: {}\\n    Positive: {} ({:.2f}% of total)\\n'.format(\n",
        "    total, yes, 100 * yes / total))"
      ],
      "metadata": {
        "colab": {
          "base_uri": "https://localhost:8080/"
        },
        "id": "4psEfxjvS48-",
        "outputId": "e18ff365-7615-49fd-f6bd-127aa8bef4e5"
      },
      "execution_count": null,
      "outputs": [
        {
          "output_type": "stream",
          "name": "stdout",
          "text": [
            "Examples:\n",
            "    Total: 26141\n",
            "    Positive: 3663 (14.01% of total)\n",
            "\n"
          ]
        }
      ]
    },
    {
      "cell_type": "code",
      "execution_count": null,
      "metadata": {
        "colab": {
          "base_uri": "https://localhost:8080/"
        },
        "id": "R3EYrwjlOuWH",
        "outputId": "61ce9e89-fb3d-4199-8716-1500b28331cb"
      },
      "outputs": [
        {
          "output_type": "stream",
          "name": "stdout",
          "text": [
            "============= Initial Malignant Data Counts ==============\n",
            " Training :  407\n",
            " Validation:  116\n",
            " Test :  58\n",
            "==========================================================\n",
            " Augmented Malignant Training Count :  3256\n",
            " All Malignant Training Count :  3663\n",
            "============= Initial Bening Data Counts ==============\n",
            " Training :  22478\n",
            " Validation:  6422\n",
            " Test :  3211\n",
            "==========================================================\n",
            "============= Selected Bening Data Counts ==============\n",
            " Training :  22478\n",
            " Validation:  6422\n",
            " Test :  3211\n",
            "==========================================================\n",
            "============= Final Built Data Counts ==============\n",
            " Training :  26141\n",
            " Validation:  6538\n",
            " Test :  3269\n",
            "==========================================================\n",
            "\n",
            "\n",
            "Dataset: shapes: ((None, 456, 456, 3), (None,)), types: (tf.float32, tf.int64)\n",
            "Dataset: shapes: ((None, 456, 456, 3), (None,)), types: (tf.float32, tf.int64)\n",
            "Dataset: shapes: ((456, 456, 3), (), ()), types: (tf.float32, tf.string, tf.int64)\n",
            "\n",
            "Base: Efficientnet-B5\n",
            "Weights: noisy-student\n",
            "\n",
            "Total training images: 26141\n",
            "Total val images: 6538\n",
            "Batch size: 64\n",
            "Max number of epochs: 25\n",
            "Steps per epoch: 409\n",
            "\n",
            "TPU implemented: Yes\n",
            "Number of replicas: 8\n",
            "Size of input: (456, 456, 3)\n",
            "Optimizer: Nadam\n",
            "LR strategy: LearningRateScheduler\n",
            "LR sched params: [1e-05, 0.0003, 1e-06, 2, 2, 0.8]\n",
            "Loss: BinaryCrossentropy\n",
            "Label smoothing: 0.05\n",
            "\n",
            "Weight for class 0: 0.58\n",
            "Weight for class 1: 3.57\n",
            "Epoch 1/25\n",
            "409/409 [==============================] - 427s 542ms/step - loss: 0.4028 - auc: 0.8768 - accuracy: 0.8089 - val_loss: 0.3538 - val_auc: 0.8509 - val_accuracy: 0.8559 - lr: 1.0000e-05\n",
            "Epoch 2/25\n",
            "409/409 [==============================] - 185s 452ms/step - loss: 0.3392 - auc: 0.9438 - accuracy: 0.8625 - val_loss: 0.2372 - val_auc: 0.8603 - val_accuracy: 0.9566 - lr: 1.5500e-04\n",
            "Epoch 3/25\n",
            "409/409 [==============================] - 182s 445ms/step - loss: 0.2721 - auc: 0.9743 - accuracy: 0.9143 - val_loss: 0.2398 - val_auc: 0.8053 - val_accuracy: 0.9455 - lr: 3.0000e-04\n",
            "Epoch 4/25\n",
            "409/409 [==============================] - 183s 447ms/step - loss: 0.2046 - auc: 0.9911 - accuracy: 0.9545 - val_loss: 0.2275 - val_auc: 0.8321 - val_accuracy: 0.9491 - lr: 3.0000e-04\n",
            "Epoch 5/25\n",
            "409/409 [==============================] - 182s 445ms/step - loss: 0.1792 - auc: 0.9955 - accuracy: 0.9697 - val_loss: 0.2340 - val_auc: 0.8568 - val_accuracy: 0.9495 - lr: 3.0000e-04\n",
            "Epoch 6/25\n",
            "409/409 [==============================] - 181s 444ms/step - loss: 0.1542 - auc: 0.9981 - accuracy: 0.9819 - val_loss: 0.1911 - val_auc: 0.7679 - val_accuracy: 0.9696 - lr: 2.4020e-04\n",
            "Epoch 7/25\n",
            "409/409 [==============================] - 182s 444ms/step - loss: 0.1358 - auc: 0.9994 - accuracy: 0.9913 - val_loss: 0.1950 - val_auc: 0.7990 - val_accuracy: 0.9683 - lr: 1.9236e-04\n",
            "Epoch 8/25\n",
            "409/409 [==============================] - 183s 447ms/step - loss: 0.1331 - auc: 0.9993 - accuracy: 0.9941 - val_loss: 0.1936 - val_auc: 0.8163 - val_accuracy: 0.9693 - lr: 1.5409e-04\n",
            "Epoch 9/25\n",
            "409/409 [==============================] - 182s 446ms/step - loss: 0.1295 - auc: 0.9998 - accuracy: 0.9953 - val_loss: 0.1950 - val_auc: 0.8422 - val_accuracy: 0.9702 - lr: 1.2347e-04\n",
            "Epoch 10/25\n",
            "409/409 [==============================] - 181s 444ms/step - loss: 0.1253 - auc: 0.9999 - accuracy: 0.9957 - val_loss: 0.1985 - val_auc: 0.8178 - val_accuracy: 0.9667 - lr: 9.8976e-05\n",
            "Epoch 11/25\n",
            "409/409 [==============================] - 182s 444ms/step - loss: 0.1251 - auc: 0.9999 - accuracy: 0.9966 - val_loss: 0.1912 - val_auc: 0.7786 - val_accuracy: 0.9711 - lr: 7.9381e-05\n",
            "Epoch 12/25\n",
            "409/409 [==============================] - 182s 445ms/step - loss: 0.1214 - auc: 1.0000 - accuracy: 0.9983 - val_loss: 0.1847 - val_auc: 0.7711 - val_accuracy: 0.9729 - lr: 6.3705e-05\n",
            "Epoch 13/25\n",
            "409/409 [==============================] - 183s 448ms/step - loss: 0.1232 - auc: 1.0000 - accuracy: 0.9981 - val_loss: 0.1876 - val_auc: 0.8090 - val_accuracy: 0.9722 - lr: 5.1164e-05\n",
            "Epoch 14/25\n",
            "409/409 [==============================] - 183s 448ms/step - loss: 0.1194 - auc: 1.0000 - accuracy: 0.9990 - val_loss: 0.1773 - val_auc: 0.7804 - val_accuracy: 0.9789 - lr: 4.1131e-05\n",
            "Epoch 15/25\n",
            "409/409 [==============================] - 183s 447ms/step - loss: 0.1202 - auc: 1.0000 - accuracy: 0.9994 - val_loss: 0.1772 - val_auc: 0.7600 - val_accuracy: 0.9786 - lr: 3.3105e-05\n",
            "Epoch 16/25\n",
            "409/409 [==============================] - 183s 447ms/step - loss: 0.1201 - auc: 1.0000 - accuracy: 0.9993 - val_loss: 0.1763 - val_auc: 0.7419 - val_accuracy: 0.9792 - lr: 2.6684e-05\n",
            "Epoch 17/25\n",
            "409/409 [==============================] - 182s 446ms/step - loss: 0.1189 - auc: 1.0000 - accuracy: 0.9993 - val_loss: 0.1773 - val_auc: 0.7611 - val_accuracy: 0.9789 - lr: 2.1547e-05\n",
            "Epoch 18/25\n",
            "409/409 [==============================] - 183s 447ms/step - loss: 0.1179 - auc: 1.0000 - accuracy: 0.9995 - val_loss: 0.1802 - val_auc: 0.8043 - val_accuracy: 0.9772 - lr: 1.7438e-05\n",
            "Epoch 19/25\n",
            "409/409 [==============================] - 183s 448ms/step - loss: 0.1184 - auc: 1.0000 - accuracy: 0.9994 - val_loss: 0.1766 - val_auc: 0.7380 - val_accuracy: 0.9801 - lr: 1.4150e-05\n",
            "Epoch 20/25\n",
            "409/409 [==============================] - 182s 446ms/step - loss: 0.1207 - auc: 1.0000 - accuracy: 0.9993 - val_loss: 0.1760 - val_auc: 0.7746 - val_accuracy: 0.9789 - lr: 1.1520e-05\n",
            "Epoch 21/25\n",
            "409/409 [==============================] - 182s 445ms/step - loss: 0.1182 - auc: 1.0000 - accuracy: 0.9997 - val_loss: 0.1772 - val_auc: 0.7698 - val_accuracy: 0.9795 - lr: 9.4161e-06\n",
            "Epoch 22/25\n",
            "409/409 [==============================] - 183s 447ms/step - loss: 0.1187 - auc: 1.0000 - accuracy: 0.9994 - val_loss: 0.1758 - val_auc: 0.7469 - val_accuracy: 0.9794 - lr: 7.7329e-06\n",
            "Epoch 23/25\n",
            "409/409 [==============================] - 183s 447ms/step - loss: 0.1175 - auc: 1.0000 - accuracy: 0.9999 - val_loss: 0.1751 - val_auc: 0.7512 - val_accuracy: 0.9801 - lr: 6.3863e-06\n",
            "Epoch 24/25\n",
            "409/409 [==============================] - 182s 446ms/step - loss: 0.1190 - auc: 1.0000 - accuracy: 0.9995 - val_loss: 0.1793 - val_auc: 0.7865 - val_accuracy: 0.9781 - lr: 5.3090e-06\n",
            "Epoch 25/25\n",
            "409/409 [==============================] - 182s 444ms/step - loss: 0.1191 - auc: 1.0000 - accuracy: 0.9995 - val_loss: 0.1762 - val_auc: 0.7718 - val_accuracy: 0.9794 - lr: 4.4472e-06\n"
          ]
        }
      ],
      "source": [
        "for component_dict in ensemble_components:\n",
        "    model, base_name = ensemble_component(component_dict)\n",
        "    train_dataset, valid_dataset, test_dataset, STEPS_PER_EPOCH, counts, target_counts = build_datasets_new(component_dict)\n",
        "    sess_summary_new(component_dict, counts, dataset_deets = True)\n",
        "\n",
        "    yes = target_counts[0]\n",
        "    no = target_counts[1]\n",
        "    total = no + yes\n",
        "    weight_for_0 = (1 / no)*(total)/2.0 \n",
        "    weight_for_1 = (1 / yes)*(total)/2.0\n",
        "\n",
        "    class_weight = {0: weight_for_0, 1: weight_for_1}\n",
        "\n",
        "    print('Weight for class 0: {:.2f}'.format(weight_for_0))\n",
        "    print('Weight for class 1: {:.2f}'.format(weight_for_1))\n",
        "\n",
        "    weights_file = '{}_F{}_weights.h5'.format(component_dict['name'], component_dict['fold'])\n",
        "    component_dict['weights_file'] = weights_file\n",
        "    dict_test_dataset[component_dict['name']] = test_dataset\n",
        "    checkpoint = config_checkpoint(weights_file)\n",
        "\n",
        "    history = model.fit(train_dataset, epochs=EPOCHS, verbose=True, \n",
        "                        steps_per_epoch=STEPS_PER_EPOCH,\n",
        "                        callbacks=[checkpoint, lr_sched],\n",
        "                        class_weight=class_weight,\n",
        "                        validation_data=valid_dataset)\n",
        "    list_history.append({component_dict['name']:history})"
      ]
    },
    {
      "cell_type": "markdown",
      "metadata": {
        "id": "PI3FDxpyO-BW"
      },
      "source": [
        "# Performance Anaysis"
      ]
    },
    {
      "cell_type": "code",
      "execution_count": null,
      "metadata": {
        "id": "26Qp6zX5O72R"
      },
      "outputs": [],
      "source": [
        "#@markdown Rebuild Classifiers Functions (for Inference)\n",
        "#@markdown - Build untrained classifier\n",
        "def get_untrained_model(model_dict):\n",
        "    # Get Specs\n",
        "    base_model = model_dict['base_model']\n",
        "    DIM = model_dict['DIM']\n",
        "    opt = model_dict['opt']\n",
        "    INPUT_SHAPE = (DIM, DIM, N_CHANNELS)\n",
        "\n",
        "    # Build Model\n",
        "    K.clear_session()\n",
        "    with strategy.scope():\n",
        "        base = base_model(weights=None, include_top=False, input_shape=INPUT_SHAPE)                                       \n",
        "        model = build_model(base, N_CLASSES, INPUT_SHAPE) \n",
        "        model.compile(optimizer=opt, loss='binary_crossentropy', metrics=['AUC','accuracy']) \n",
        "\n",
        "    print('Built {} based model with random weights'.format(base.name.title()))\n",
        "    return model\n",
        "#@markdown - Load trained weights\n",
        "def switch_weights(model, model_dict):\n",
        "    weights_path = model_dict['weights_file']\n",
        "    model.load_weights(weights_path)\n",
        "    print('Assigned FOLD {} weights to {}-based model'.format(\n",
        "        model_dict['fold'], model.name.split('_')[0]))\n",
        "    return model"
      ]
    },
    {
      "cell_type": "code",
      "execution_count": null,
      "metadata": {
        "id": "IPtrrXf5_1C1"
      },
      "outputs": [],
      "source": [
        "#@markdown Prediction Function\n",
        "def get_predictions_new(valid_dataset, valid_orig_imgs, NUM_VALIDATION_IMAGES):\n",
        "    print('\\nMaking Predictions:')\n",
        "    eval = model.evaluate(valid_dataset, verbose=True, return_dict=False) # evaluation as in training\n",
        "    pred_orig = model.predict(valid_orig_imgs, verbose=1) # these are the predictions on the un-augmented valid set\n",
        "    return eval, pred_orig"
      ]
    },
    {
      "cell_type": "code",
      "execution_count": null,
      "metadata": {
        "id": "Gba8Y8FTQmwb"
      },
      "outputs": [],
      "source": [
        "folds_idx = [1] # the index in models_folds of the fold to be used\n",
        "efn_vers_idx = [3] # the index of the efn version to be used 0 for B3, 1 for B4, 2 for B6, 3 for B5"
      ]
    },
    {
      "cell_type": "code",
      "source": [
        "#@markdown Folds Models Lists\n",
        "models_fold_0 = [EB3_F0, EB4_F0, EB6_F0]\n",
        "models_fold_1 = [EB3_F1, EB4_F1, EB6_F1, EB5_F1]\n",
        "models_fold_2 = [EB3_F2, EB4_F2, EB6_F2]\n",
        "models_fold_3 = [EB3_F3, EB4_F3, EB6_F3]\n",
        "models_fold_4 = [EB3_F4, EB4_F4, EB6_F4]\n",
        "\n",
        "models_folds = [models_fold_0, models_fold_1, models_fold_2, \n",
        "                models_fold_3, models_fold_4]"
      ],
      "metadata": {
        "id": "oFMIeMb7uvhu"
      },
      "execution_count": null,
      "outputs": []
    },
    {
      "cell_type": "code",
      "execution_count": null,
      "metadata": {
        "id": "TcA5qRvH2YS4"
      },
      "outputs": [],
      "source": [
        "#Plotting the model Accurcay and Loss\n",
        "def print_loss_history(training_history,name):\n",
        "    loss = training_history.history['loss']\n",
        "    val_loss = training_history.history['val_loss']\n",
        "    epochs = range(1, len(loss) + 1)\n",
        "    plt.plot(epochs, loss, color='red', label='Training loss')\n",
        "    plt.plot(epochs, val_loss, color='green', label='Validation loss')\n",
        "    #plt.plot([0, 1], [0, 1])\n",
        "    plt.title('Training and validation loss - '+name)\n",
        "    plt.xlabel('Epochs')\n",
        "    plt.ylabel('Loss')\n",
        "    plt.legend()\n",
        "    plt.show()\n",
        "    return\n",
        "\n",
        "def print_accuracy_history(training_history,name):\n",
        "    acc = training_history.history['accuracy']\n",
        "    val_acc = training_history.history['val_accuracy']\n",
        "    epochs = range(1, len(acc) + 1)\n",
        "    plt.plot(epochs, acc, color='red', label='Training accuracy')\n",
        "    plt.plot(epochs, val_acc, color='green', label='Validation accuracy')\n",
        "    #plt.plot([0, 1], [0, 1])\n",
        "    plt.title('Training and validation accuracy - '+name)\n",
        "    plt.xlabel('Epochs')\n",
        "    plt.ylabel('Accuracy')\n",
        "    plt.legend()\n",
        "    plt.show()\n",
        "    return"
      ]
    },
    {
      "cell_type": "code",
      "source": [
        "for history in list_history:\n",
        "  for key, value in history.items():\n",
        "    print(\"================= \",key,\" ====================================\")\n",
        "    print_loss_history(value,key)\n",
        "    print_accuracy_history(value,key)"
      ],
      "metadata": {
        "colab": {
          "base_uri": "https://localhost:8080/",
          "height": 1000
        },
        "id": "o6BFlMpgfIpY",
        "outputId": "105f9204-03df-4fce-aa05-313f88676fb2"
      },
      "execution_count": null,
      "outputs": [
        {
          "output_type": "stream",
          "name": "stdout",
          "text": [
            "=================  EB5  ====================================\n"
          ]
        },
        {
          "output_type": "display_data",
          "data": {
            "image/png": "[encoded data removed]",
            "text/plain": [
              "<Figure size 576x288 with 1 Axes>"
            ]
          },
          "metadata": {
            "needs_background": "dark"
          }
        },
        {
          "output_type": "display_data",
          "data": {
            "image/png": "[encoded data removed]",
            "text/plain": [
              "<Figure size 576x288 with 1 Axes>"
            ]
          },
          "metadata": {
            "needs_background": "dark"
          }
        },
        {
          "output_type": "stream",
          "name": "stdout",
          "text": [
            "=================  EB5  ====================================\n"
          ]
        },
        {
          "output_type": "display_data",
          "data": {
            "image/png": "[encoded data removed]",
            "text/plain": [
              "<Figure size 576x288 with 1 Axes>"
            ]
          },
          "metadata": {
            "needs_background": "dark"
          }
        },
        {
          "output_type": "display_data",
          "data": {
            "image/png": "[encoded data removed]",
            "text/plain": [
              "<Figure size 576x288 with 1 Axes>"
            ]
          },
          "metadata": {
            "needs_background": "dark"
          }
        }
      ]
    },
    {
      "cell_type": "code",
      "execution_count": null,
      "metadata": {
        "id": "7pIVruS6UCTp"
      },
      "outputs": [],
      "source": [
        "from sklearn.metrics import confusion_matrix\n",
        "from sklearn.metrics import classification_report, ConfusionMatrixDisplay\n",
        "from sklearn.metrics import RocCurveDisplay"
      ]
    },
    {
      "cell_type": "code",
      "execution_count": null,
      "metadata": {
        "cellView": "code",
        "colab": {
          "base_uri": "https://localhost:8080/",
          "height": 631
        },
        "outputId": "69551f20-f5ca-4572-bf4c-ebc8e3edd31a",
        "id": "jbjzWcnF_Oxu"
      },
      "outputs": [
        {
          "output_type": "stream",
          "name": "stdout",
          "text": [
            "Processing models for FOLD 1 \n",
            "Getting targets and names\n",
            "Built Efficientnet-B5 based model with random weights\n",
            "Assigned FOLD 1 weights to Efficientnet-B5-based model\n",
            "\n",
            "Making Predictions:\n",
            "52/52 [==============================] - 52s 429ms/step - loss: 0.1156 - auc: 0.8786 - accuracy: 0.9507\n",
            "52/52 [==============================] - 45s 408ms/step\n",
            "\n",
            "Evaluation Results:\n"
          ]
        },
        {
          "output_type": "display_data",
          "data": {
            "text/html": [
              "\n",
              "  <div id=\"df-d5aade0a-2825-42ee-a8b7-49ce70ff7fa7\">\n",
              "    <div class=\"colab-df-container\">\n",
              "      <div>\n",
              "<style scoped>\n",
              "    .dataframe tbody tr th:only-of-type {\n",
              "        vertical-align: middle;\n",
              "    }\n",
              "\n",
              "    .dataframe tbody tr th {\n",
              "        vertical-align: top;\n",
              "    }\n",
              "\n",
              "    .dataframe thead th {\n",
              "        text-align: right;\n",
              "    }\n",
              "</style>\n",
              "<table border=\"1\" class=\"dataframe\">\n",
              "  <thead>\n",
              "    <tr style=\"text-align: right;\">\n",
              "      <th></th>\n",
              "      <th>component</th>\n",
              "      <th>tf_eval</th>\n",
              "      <th>no_aug</th>\n",
              "    </tr>\n",
              "  </thead>\n",
              "  <tbody>\n",
              "    <tr>\n",
              "      <th>0</th>\n",
              "      <td>EB5_F1</td>\n",
              "      <td>0.87856</td>\n",
              "      <td>0.881847</td>\n",
              "    </tr>\n",
              "  </tbody>\n",
              "</table>\n",
              "</div>\n",
              "      <button class=\"colab-df-convert\" onclick=\"convertToInteractive('df-d5aade0a-2825-42ee-a8b7-49ce70ff7fa7')\"\n",
              "              title=\"Convert this dataframe to an interactive table.\"\n",
              "              style=\"display:none;\">\n",
              "        \n",
              "  <svg xmlns=\"http://www.w3.org/2000/svg\" height=\"24px\"viewBox=\"0 0 24 24\"\n",
              "       width=\"24px\">\n",
              "    <path d=\"M0 0h24v24H0V0z\" fill=\"none\"/>\n",
              "    <path d=\"M18.56 5.44l.94 2.06.94-2.06 2.06-.94-2.06-.94-.94-2.06-.94 2.06-2.06.94zm-11 1L8.5 8.5l.94-2.06 2.06-.94-2.06-.94L8.5 2.5l-.94 2.06-2.06.94zm10 10l.94 2.06.94-2.06 2.06-.94-2.06-.94-.94-2.06-.94 2.06-2.06.94z\"/><path d=\"M17.41 7.96l-1.37-1.37c-.4-.4-.92-.59-1.43-.59-.52 0-1.04.2-1.43.59L10.3 9.45l-7.72 7.72c-.78.78-.78 2.05 0 2.83L4 21.41c.39.39.9.59 1.41.59.51 0 1.02-.2 1.41-.59l7.78-7.78 2.81-2.81c.8-.78.8-2.07 0-2.86zM5.41 20L4 18.59l7.72-7.72 1.47 1.35L5.41 20z\"/>\n",
              "  </svg>\n",
              "      </button>\n",
              "      \n",
              "  <style>\n",
              "    .colab-df-container {\n",
              "      display:flex;\n",
              "      flex-wrap:wrap;\n",
              "      gap: 12px;\n",
              "    }\n",
              "\n",
              "    .colab-df-convert {\n",
              "      background-color: #E8F0FE;\n",
              "      border: none;\n",
              "      border-radius: 50%;\n",
              "      cursor: pointer;\n",
              "      display: none;\n",
              "      fill: #1967D2;\n",
              "      height: 32px;\n",
              "      padding: 0 0 0 0;\n",
              "      width: 32px;\n",
              "    }\n",
              "\n",
              "    .colab-df-convert:hover {\n",
              "      background-color: #E2EBFA;\n",
              "      box-shadow: 0px 1px 2px rgba(60, 64, 67, 0.3), 0px 1px 3px 1px rgba(60, 64, 67, 0.15);\n",
              "      fill: #174EA6;\n",
              "    }\n",
              "\n",
              "    [theme=dark] .colab-df-convert {\n",
              "      background-color: #3B4455;\n",
              "      fill: #D2E3FC;\n",
              "    }\n",
              "\n",
              "    [theme=dark] .colab-df-convert:hover {\n",
              "      background-color: #434B5C;\n",
              "      box-shadow: 0px 1px 3px 1px rgba(0, 0, 0, 0.15);\n",
              "      filter: drop-shadow(0px 1px 2px rgba(0, 0, 0, 0.3));\n",
              "      fill: #FFFFFF;\n",
              "    }\n",
              "  </style>\n",
              "\n",
              "      <script>\n",
              "        const buttonEl =\n",
              "          document.querySelector('#df-d5aade0a-2825-42ee-a8b7-49ce70ff7fa7 button.colab-df-convert');\n",
              "        buttonEl.style.display =\n",
              "          google.colab.kernel.accessAllowed ? 'block' : 'none';\n",
              "\n",
              "        async function convertToInteractive(key) {\n",
              "          const element = document.querySelector('#df-d5aade0a-2825-42ee-a8b7-49ce70ff7fa7');\n",
              "          const dataTable =\n",
              "            await google.colab.kernel.invokeFunction('convertToInteractive',\n",
              "                                                     [key], {});\n",
              "          if (!dataTable) return;\n",
              "\n",
              "          const docLinkHtml = 'Like what you see? Visit the ' +\n",
              "            '<a target=\"_blank\" href=https://colab.research.google.com/notebooks/data_table.ipynb>data table notebook</a>'\n",
              "            + ' to learn more about interactive tables.';\n",
              "          element.innerHTML = '';\n",
              "          dataTable['output_type'] = 'display_data';\n",
              "          await google.colab.output.renderOutput(dataTable, element);\n",
              "          const docLink = document.createElement('div');\n",
              "          docLink.innerHTML = docLinkHtml;\n",
              "          element.appendChild(docLink);\n",
              "        }\n",
              "      </script>\n",
              "    </div>\n",
              "  </div>\n",
              "  "
            ],
            "text/plain": [
              "  component  tf_eval    no_aug\n",
              "0    EB5_F1  0.87856  0.881847"
            ]
          },
          "metadata": {}
        },
        {
          "output_type": "stream",
          "name": "stdout",
          "text": [
            "\n",
            "\n",
            "================  EB5  =================\n",
            "classification_report -  EB5\n",
            "              precision    recall  f1-score   support\n",
            "\n",
            "           0       0.99      0.96      0.97      3211\n",
            "           1       0.15      0.38      0.21        58\n",
            "\n",
            "    accuracy                           0.95      3269\n",
            "   macro avg       0.57      0.67      0.59      3269\n",
            "weighted avg       0.97      0.95      0.96      3269\n",
            "\n",
            "Confusion matrix -  EB5\n"
          ]
        },
        {
          "output_type": "display_data",
          "data": {
            "image/png": "[encoded data removed]",
            "text/plain": [
              "<Figure size 576x288 with 2 Axes>"
            ]
          },
          "metadata": {
            "needs_background": "dark"
          }
        },
        {
          "output_type": "stream",
          "name": "stdout",
          "text": [
            " ROC curve -  EB5\n",
            "ROC -->  0.6701908310871036\n"
          ]
        },
        {
          "output_type": "display_data",
          "data": {
            "image/png": "[encoded data removed]",
            "text/plain": [
              "<Figure size 576x288 with 1 Axes>"
            ]
          },
          "metadata": {
            "needs_background": "dark"
          }
        }
      ],
      "source": [
        "#@markdown Prediction and Evaluation Loop Version 1.1\n",
        "#TTA = 30 # Test time augmentation Steps \n",
        "#cols = ['component', 'tf_eval', 'no_aug', 'tta_10', 'tta_20', 'tta_30', 'best']\n",
        "cols = ['component', 'tf_eval', 'no_aug']\n",
        "list_pred_component = []\n",
        "aucsDF = pd.DataFrame(columns = cols)\n",
        "\n",
        "# for fold_num, models_fold in enumerate(models_folds): # START OUTER LOOP\n",
        "for fold_num in folds_idx: # START OUTER LOOP\n",
        "    print('Processing models for FOLD {} \\nGetting targets and names'.format(fold_num))\n",
        "\n",
        "    models_fold = models_folds[fold_num]\n",
        "\n",
        "    # for model_index, model_dict in enumerate(models_fold): # START INNER LOOP\n",
        "    for model_index in efn_vers_idx: # START INNER LOOP\n",
        "        model_dict = models_fold[model_index]\n",
        "\n",
        "        test_dataset = dict_test_dataset[model_dict['name']]\n",
        "        # retrive the targets\n",
        "        val_targets_ds = test_dataset.map(lambda image, image_name, target: target)\n",
        "        val_targets = np.array([target.numpy() for target in iter(val_targets_ds)])\n",
        "        \n",
        "        # retrieve image names\n",
        "        val_names_ds = test_dataset.map(lambda image, image_name, target: image_name)\n",
        "        val_names = [image_name.numpy().decode(\"utf-8\") for image_name in iter(val_names_ds)] \n",
        "\n",
        "        # Create one of this for each FOLD, put info of all 3 models here. \n",
        "        predsDF = pd.DataFrame({'image_name': val_names, 'target': val_targets})\n",
        "\n",
        "        model = get_untrained_model(model_dict) \n",
        "        DIM = model_dict['DIM']\n",
        "        model = switch_weights(model, model_dict)\n",
        "\n",
        "        # valid_dataset, VALIDATION_FILENAMES_used, _ = unaugmented_val_dataset(model_dict['fold'], DIM)\n",
        "        # assert VALIDATION_FILENAMES == VALIDATION_FILENAMES_used, 'VALIDATION_FILENAMES are not the same'\n",
        "\n",
        "        valid_orig_imgs = test_dataset.map(lambda image, image_name, target: image)\n",
        "        valid_orig_imgs = valid_orig_imgs.batch(BATCH_SIZE)\n",
        "        #valid_aug_imgs  = tta_validation_datasets(VALIDATION_FILENAMES, DIM)[0]\n",
        "\n",
        "        test_dataset_eval = test_dataset.map(lambda image, image_name, target: getTrainingElements(image, target))\n",
        "        test_dataset_eval = test_dataset_eval.batch(BATCH_SIZE)\n",
        "        \n",
        "        eval, pred_orig= get_predictions_new(test_dataset_eval, valid_orig_imgs, counts[2])\n",
        "        eval_auc = round(eval[1], 5)\n",
        "\n",
        "        col_prefix = '{}_F{}'.format(model_dict['name'], model_dict['fold'])\n",
        "        predsDF[col_prefix+'_NOAUG'] = pred_orig\n",
        "        # predsDF[col_prefix+'_TTA10'] = np.mean(tta_preds[:,:10], axis = 1)\n",
        "        # predsDF[col_prefix+'_TTA20'] = np.mean(tta_preds[:,:20], axis = 1)\n",
        "        # predsDF[col_prefix+'_TTA30'] = np.mean(tta_preds, axis = 1)\n",
        "\n",
        "        AUCs = {}\n",
        "        AUCs['component'] = col_prefix\n",
        "        AUCs['tf_eval'] = eval_auc\n",
        "        AUCs['no_aug'] = roc_auc_score(val_targets, pred_orig)\n",
        "        # AUCs['tta_10'] = roc_auc_score(val_targets, predsDF[col_prefix+'_TTA10'])\n",
        "        # AUCs['tta_20'] = roc_auc_score(val_targets, predsDF[col_prefix+'_TTA20'])\n",
        "        # AUCs['tta_30'] = roc_auc_score(val_targets, predsDF[col_prefix+'_TTA30'])\n",
        "\n",
        "        aucsDF = aucsDF.append([AUCs])\n",
        "        #aucsDF['best']=aucsDF[aucsDF.columns[-5:-1]].idxmax(axis=1) \n",
        "        print('\\nEvaluation Results:')\n",
        "        display(aucsDF[aucsDF.component == col_prefix])\n",
        "        print('\\n')\n",
        "        pred_comp = {\n",
        "            'baseModel':model_dict['name'],\n",
        "            'validation_targets':val_targets,\n",
        "            'validation_pred_orig':pred_orig\n",
        "        }\n",
        "        list_pred_component.append(pred_comp)\n",
        "        pred_orig_rint = np.rint(pred_orig).astype(np.uint8).clip(0, 1)\n",
        "        print(\"================ \",model_dict['name'],\" =================\")\n",
        "        print('classification_report - ',model_dict['name'])\n",
        "        print(classification_report(val_targets, pred_orig_rint))\n",
        "        print('Confusion matrix - ',model_dict['name'])\n",
        "        # confusion_matrix_vals = confusion_matrix(validation_targets, validation_pred_orig)\n",
        "        # disp = ConfusionMatrixDisplay(confusion_matrix=confusion_matrix_vals)\n",
        "        # disp.plot()\n",
        "        ConfusionMatrixDisplay.from_predictions(val_targets, pred_orig_rint)\n",
        "        plt.show()\n",
        "        print(' ROC curve - ',model_dict['name'])\n",
        "        print(\"ROC --> \",roc_auc_score(val_targets, pred_orig_rint))\n",
        "        RocCurveDisplay.from_predictions(val_targets, pred_orig_rint)\n",
        "        plt.show()\n",
        "\n",
        "        # END inner loop\n",
        "\n",
        "    # back to outer loop\n",
        "    preds_file_name = 'preds_fold_{}.csv'.format(fold_num)\n",
        "    predsDF.to_csv(preds_file_name, index=False)\n",
        "\n",
        "# END of outer loop\n",
        "aucsDF.to_csv('AUCS.csv', index=False)"
      ]
    }
  ]
}
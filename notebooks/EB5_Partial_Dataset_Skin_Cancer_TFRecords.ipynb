{
  "nbformat": 4,
  "nbformat_minor": 0,
  "metadata": {
    "colab": {
      "name": "EB5 - Partial Dataset - Skin Cancer TFRecords.ipynb",
      "provenance": [],
      "collapsed_sections": [],
      "machine_shape": "hm",
      "mount_file_id": "1znjNS3oHa9FrhG2WIoiilLbfZraul7YW",
      "authorship_tag": "ABX9TyPvkNNlQRjJFKvWRP6fly/G",
      "include_colab_link": true
    },
    "kernelspec": {
      "name": "python3",
      "display_name": "Python 3"
    },
    "language_info": {
      "name": "python"
    },
    "accelerator": "TPU"
  },
  "cells": [
    {
      "cell_type": "markdown",
      "metadata": {
        "id": "view-in-github",
        "colab_type": "text"
      },
      "source": [
        "<a href=\"https://colab.research.google.com/github/Oshada-Kasun/skin-cancer-detection/blob/main/notebooks/EB5_Partial_Dataset_Skin_Cancer_TFRecords.ipynb\" target=\"_parent\"><img src=\"https://colab.research.google.com/assets/colab-badge.svg\" alt=\"Open In Colab\"/></a>"
      ]
    },
    {
      "cell_type": "code",
      "execution_count": null,
      "metadata": {
        "colab": {
          "base_uri": "https://localhost:8080/"
        },
        "id": "smwpu9AcWuSZ",
        "outputId": "9e6199d2-5830-46a5-dfdb-5b052764b4fd"
      },
      "outputs": [
        {
          "output_type": "stream",
          "name": "stdout",
          "text": [
            "Requirement already satisfied: pip in /usr/local/lib/python3.7/dist-packages (21.1.3)\n",
            "Requirement already satisfied: install in /usr/local/lib/python3.7/dist-packages (1.3.5)\n",
            "Requirement already satisfied: tensorflow-addons in /usr/local/lib/python3.7/dist-packages (0.15.0)\n",
            "Requirement already satisfied: typeguard>=2.7 in /usr/local/lib/python3.7/dist-packages (from tensorflow-addons) (2.7.1)\n"
          ]
        }
      ],
      "source": [
        "import os, sys, math, pathlib, re, gc, time, random\n",
        "import numpy as np\n",
        "import pandas as pd\n",
        "from matplotlib import pyplot as plt\n",
        "from datetime import datetime, timedelta\n",
        "from sklearn.model_selection import KFold\n",
        "from sklearn.metrics import roc_auc_score\n",
        "import time\n",
        "\n",
        "import tensorflow as tf\n",
        "import tensorflow.keras.layers as L\n",
        "import tensorflow.keras.backend as K\n",
        "\n",
        "!pip install pip install tensorflow-addons\n",
        "import tensorflow_addons as tfa"
      ]
    },
    {
      "cell_type": "code",
      "execution_count": null,
      "metadata": {
        "colab": {
          "base_uri": "https://localhost:8080/"
        },
        "id": "o-PhFBxut6Dr",
        "outputId": "f05f878a-4c76-45d6-ae43-0b0f51cefd47"
      },
      "outputs": [
        {
          "output_type": "stream",
          "name": "stdout",
          "text": [
            "\n",
            "Tensorflow version 2.7.0\n"
          ]
        }
      ],
      "source": [
        "print(\"\\nTensorflow version \" + tf.__version__)\n",
        "AUTO = tf.data.experimental.AUTOTUNE "
      ]
    },
    {
      "cell_type": "code",
      "execution_count": null,
      "metadata": {
        "colab": {
          "base_uri": "https://localhost:8080/"
        },
        "id": "f1960nxjgnZC",
        "outputId": "1b58e370-bcdb-42cc-8a7f-f90732e6a2df"
      },
      "outputs": [
        {
          "output_type": "stream",
          "name": "stdout",
          "text": [
            "INFO:tensorflow:Deallocate tpu buffers before initializing tpu system.\n"
          ]
        },
        {
          "output_type": "stream",
          "name": "stderr",
          "text": [
            "INFO:tensorflow:Deallocate tpu buffers before initializing tpu system.\n"
          ]
        },
        {
          "output_type": "stream",
          "name": "stdout",
          "text": [
            "INFO:tensorflow:Initializing the TPU system: grpc://10.12.210.66:8470\n"
          ]
        },
        {
          "output_type": "stream",
          "name": "stderr",
          "text": [
            "INFO:tensorflow:Initializing the TPU system: grpc://10.12.210.66:8470\n"
          ]
        },
        {
          "output_type": "stream",
          "name": "stdout",
          "text": [
            "INFO:tensorflow:Finished initializing TPU system.\n"
          ]
        },
        {
          "output_type": "stream",
          "name": "stderr",
          "text": [
            "INFO:tensorflow:Finished initializing TPU system.\n"
          ]
        },
        {
          "output_type": "stream",
          "name": "stdout",
          "text": [
            "Device: grpc://10.12.210.66:8470\n",
            "INFO:tensorflow:Found TPU system:\n"
          ]
        },
        {
          "output_type": "stream",
          "name": "stderr",
          "text": [
            "INFO:tensorflow:Found TPU system:\n"
          ]
        },
        {
          "output_type": "stream",
          "name": "stdout",
          "text": [
            "INFO:tensorflow:*** Num TPU Cores: 8\n"
          ]
        },
        {
          "output_type": "stream",
          "name": "stderr",
          "text": [
            "INFO:tensorflow:*** Num TPU Cores: 8\n"
          ]
        },
        {
          "output_type": "stream",
          "name": "stdout",
          "text": [
            "INFO:tensorflow:*** Num TPU Workers: 1\n"
          ]
        },
        {
          "output_type": "stream",
          "name": "stderr",
          "text": [
            "INFO:tensorflow:*** Num TPU Workers: 1\n"
          ]
        },
        {
          "output_type": "stream",
          "name": "stdout",
          "text": [
            "INFO:tensorflow:*** Num TPU Cores Per Worker: 8\n"
          ]
        },
        {
          "output_type": "stream",
          "name": "stderr",
          "text": [
            "INFO:tensorflow:*** Num TPU Cores Per Worker: 8\n"
          ]
        },
        {
          "output_type": "stream",
          "name": "stdout",
          "text": [
            "INFO:tensorflow:*** Available Device: _DeviceAttributes(/job:localhost/replica:0/task:0/device:CPU:0, CPU, 0, 0)\n"
          ]
        },
        {
          "output_type": "stream",
          "name": "stderr",
          "text": [
            "INFO:tensorflow:*** Available Device: _DeviceAttributes(/job:localhost/replica:0/task:0/device:CPU:0, CPU, 0, 0)\n"
          ]
        },
        {
          "output_type": "stream",
          "name": "stdout",
          "text": [
            "INFO:tensorflow:*** Available Device: _DeviceAttributes(/job:worker/replica:0/task:0/device:CPU:0, CPU, 0, 0)\n"
          ]
        },
        {
          "output_type": "stream",
          "name": "stderr",
          "text": [
            "INFO:tensorflow:*** Available Device: _DeviceAttributes(/job:worker/replica:0/task:0/device:CPU:0, CPU, 0, 0)\n"
          ]
        },
        {
          "output_type": "stream",
          "name": "stdout",
          "text": [
            "INFO:tensorflow:*** Available Device: _DeviceAttributes(/job:worker/replica:0/task:0/device:TPU:0, TPU, 0, 0)\n"
          ]
        },
        {
          "output_type": "stream",
          "name": "stderr",
          "text": [
            "INFO:tensorflow:*** Available Device: _DeviceAttributes(/job:worker/replica:0/task:0/device:TPU:0, TPU, 0, 0)\n"
          ]
        },
        {
          "output_type": "stream",
          "name": "stdout",
          "text": [
            "INFO:tensorflow:*** Available Device: _DeviceAttributes(/job:worker/replica:0/task:0/device:TPU:1, TPU, 0, 0)\n"
          ]
        },
        {
          "output_type": "stream",
          "name": "stderr",
          "text": [
            "INFO:tensorflow:*** Available Device: _DeviceAttributes(/job:worker/replica:0/task:0/device:TPU:1, TPU, 0, 0)\n"
          ]
        },
        {
          "output_type": "stream",
          "name": "stdout",
          "text": [
            "INFO:tensorflow:*** Available Device: _DeviceAttributes(/job:worker/replica:0/task:0/device:TPU:2, TPU, 0, 0)\n"
          ]
        },
        {
          "output_type": "stream",
          "name": "stderr",
          "text": [
            "INFO:tensorflow:*** Available Device: _DeviceAttributes(/job:worker/replica:0/task:0/device:TPU:2, TPU, 0, 0)\n"
          ]
        },
        {
          "output_type": "stream",
          "name": "stdout",
          "text": [
            "INFO:tensorflow:*** Available Device: _DeviceAttributes(/job:worker/replica:0/task:0/device:TPU:3, TPU, 0, 0)\n"
          ]
        },
        {
          "output_type": "stream",
          "name": "stderr",
          "text": [
            "INFO:tensorflow:*** Available Device: _DeviceAttributes(/job:worker/replica:0/task:0/device:TPU:3, TPU, 0, 0)\n"
          ]
        },
        {
          "output_type": "stream",
          "name": "stdout",
          "text": [
            "INFO:tensorflow:*** Available Device: _DeviceAttributes(/job:worker/replica:0/task:0/device:TPU:4, TPU, 0, 0)\n"
          ]
        },
        {
          "output_type": "stream",
          "name": "stderr",
          "text": [
            "INFO:tensorflow:*** Available Device: _DeviceAttributes(/job:worker/replica:0/task:0/device:TPU:4, TPU, 0, 0)\n"
          ]
        },
        {
          "output_type": "stream",
          "name": "stdout",
          "text": [
            "INFO:tensorflow:*** Available Device: _DeviceAttributes(/job:worker/replica:0/task:0/device:TPU:5, TPU, 0, 0)\n"
          ]
        },
        {
          "output_type": "stream",
          "name": "stderr",
          "text": [
            "INFO:tensorflow:*** Available Device: _DeviceAttributes(/job:worker/replica:0/task:0/device:TPU:5, TPU, 0, 0)\n"
          ]
        },
        {
          "output_type": "stream",
          "name": "stdout",
          "text": [
            "INFO:tensorflow:*** Available Device: _DeviceAttributes(/job:worker/replica:0/task:0/device:TPU:6, TPU, 0, 0)\n"
          ]
        },
        {
          "output_type": "stream",
          "name": "stderr",
          "text": [
            "INFO:tensorflow:*** Available Device: _DeviceAttributes(/job:worker/replica:0/task:0/device:TPU:6, TPU, 0, 0)\n"
          ]
        },
        {
          "output_type": "stream",
          "name": "stdout",
          "text": [
            "INFO:tensorflow:*** Available Device: _DeviceAttributes(/job:worker/replica:0/task:0/device:TPU:7, TPU, 0, 0)\n"
          ]
        },
        {
          "output_type": "stream",
          "name": "stderr",
          "text": [
            "INFO:tensorflow:*** Available Device: _DeviceAttributes(/job:worker/replica:0/task:0/device:TPU:7, TPU, 0, 0)\n"
          ]
        },
        {
          "output_type": "stream",
          "name": "stdout",
          "text": [
            "INFO:tensorflow:*** Available Device: _DeviceAttributes(/job:worker/replica:0/task:0/device:TPU_SYSTEM:0, TPU_SYSTEM, 0, 0)\n"
          ]
        },
        {
          "output_type": "stream",
          "name": "stderr",
          "text": [
            "INFO:tensorflow:*** Available Device: _DeviceAttributes(/job:worker/replica:0/task:0/device:TPU_SYSTEM:0, TPU_SYSTEM, 0, 0)\n"
          ]
        },
        {
          "output_type": "stream",
          "name": "stdout",
          "text": [
            "INFO:tensorflow:*** Available Device: _DeviceAttributes(/job:worker/replica:0/task:0/device:XLA_CPU:0, XLA_CPU, 0, 0)\n"
          ]
        },
        {
          "output_type": "stream",
          "name": "stderr",
          "text": [
            "INFO:tensorflow:*** Available Device: _DeviceAttributes(/job:worker/replica:0/task:0/device:XLA_CPU:0, XLA_CPU, 0, 0)\n"
          ]
        },
        {
          "output_type": "stream",
          "name": "stdout",
          "text": [
            "Number of replicas: 8\n"
          ]
        }
      ],
      "source": [
        "try:\n",
        "    tpu = tf.distribute.cluster_resolver.TPUClusterResolver.connect()\n",
        "    print(\"Device:\", tpu.master())\n",
        "    strategy = tf.distribute.TPUStrategy(tpu)\n",
        "except:\n",
        "    strategy = tf.distribute.get_strategy()\n",
        "print(\"Number of replicas:\", strategy.num_replicas_in_sync)"
      ]
    },
    {
      "cell_type": "code",
      "execution_count": null,
      "metadata": {
        "id": "1atxfdXPal1X"
      },
      "outputs": [],
      "source": [
        "N_CHANNELS = 3\n",
        "N_CLASSES = 1 # use 1 for binary \n",
        "\n",
        "REPLICAS = strategy.num_replicas_in_sync\n",
        "IMAGES_PER_REPLICA = 8 \n",
        "BATCH_SIZE = IMAGES_PER_REPLICA * REPLICAS\n",
        "\n",
        "EPOCHS = 25\n",
        "buffer_size = 10000 #(used for data shuffling OOM if too large)"
      ]
    },
    {
      "cell_type": "code",
      "execution_count": null,
      "metadata": {
        "colab": {
          "base_uri": "https://localhost:8080/"
        },
        "id": "Asr6JnU-aucZ",
        "outputId": "e1ca84c3-c2ca-43e5-e88b-f3f108cfbc82"
      },
      "outputs": [
        {
          "output_type": "stream",
          "name": "stdout",
          "text": [
            "Batch size:  64\n",
            "Number of replicas:  8\n"
          ]
        }
      ],
      "source": [
        "print(\"Batch size: \",BATCH_SIZE)\n",
        "print(\"Number of replicas: \",REPLICAS)"
      ]
    },
    {
      "cell_type": "code",
      "execution_count": null,
      "metadata": {
        "id": "zy_fCyBvWy7V"
      },
      "outputs": [],
      "source": [
        "GCS_PATH_2020 = \"gs://kds-a5dd9f0eb26778fddaa4f0759d9471b1eadbf1ee1057043427ad04dd\"\n",
        "TRAIN_2020 = tf.io.gfile.glob(GCS_PATH_2020 + '/train*.tfrec')"
      ]
    },
    {
      "cell_type": "code",
      "execution_count": null,
      "metadata": {
        "id": "pj3oH_GfBOeP"
      },
      "outputs": [],
      "source": [
        "def read_labeled_tfrecord(example):\n",
        "    LABELED_TFREC_FORMAT = {\n",
        "        'image': tf.io.FixedLenFeature([], tf.string), \n",
        "        'image_name' : tf.io.FixedLenFeature([], tf.string),\n",
        "        'target': tf.io.FixedLenFeature([], tf.int64), \n",
        "    }\n",
        "    example = tf.io.parse_single_example(example, LABELED_TFREC_FORMAT)\n",
        "    return example['image'], example['image_name'], example['target'] \n",
        "\n",
        "def read_unlabeled_tfrecord(example):\n",
        "    UNLABELED_TFREC_FORMAT = {\n",
        "        'image': tf.io.FixedLenFeature([], tf.string), \n",
        "        'image_name': tf.io.FixedLenFeature([], tf.string), \n",
        "    }\n",
        "    example = tf.io.parse_single_example(example, UNLABELED_TFREC_FORMAT)\n",
        "    return example['image'], example['image_name']\n",
        "\n",
        "def load_dataset(filenames, labeled = True, ordered = False):\n",
        "    dataset = tf.data.TFRecordDataset(filenames, num_parallel_reads=AUTO)\n",
        "    if not ordered: \n",
        "        ignore_order = tf.data.Options()\n",
        "        ignore_order.experimental_deterministic = False \n",
        "        dataset = dataset.with_options(ignore_order)\n",
        "    dataset = dataset.map(read_labeled_tfrecord if labeled else \n",
        "                          read_unlabeled_tfrecord, num_parallel_calls=AUTO)\n",
        "    return dataset"
      ]
    },
    {
      "cell_type": "code",
      "execution_count": null,
      "metadata": {
        "id": "mdYHT3Ok_9GE"
      },
      "outputs": [],
      "source": [
        "def count_data_items(filenames):\n",
        "    # the number of data items is written in the name of the .tfrec files, i.e. flowers00-230.tfrec = 230 data items\n",
        "    n = [int(re.compile(r\"-([0-9]*)\\.\").search(filename).group(1)) for filename in filenames]\n",
        "    return np.sum(n)"
      ]
    },
    {
      "cell_type": "code",
      "execution_count": null,
      "metadata": {
        "colab": {
          "base_uri": "https://localhost:8080/"
        },
        "id": "AhjKbecBFPmh",
        "outputId": "b60722bb-984b-4d17-b31b-bcaf872c332a"
      },
      "outputs": [
        {
          "output_type": "stream",
          "name": "stdout",
          "text": [
            "/content/drive/MyDrive/FourthBrain/Capstone Project/Notebooks\n"
          ]
        }
      ],
      "source": [
        "cd /content/drive/MyDrive/FourthBrain/Capstone\\ Project/Notebooks"
      ]
    },
    {
      "cell_type": "code",
      "execution_count": null,
      "metadata": {
        "id": "0Jb1olKgIaLz"
      },
      "outputs": [],
      "source": [
        "!pip install -q efficientnet\n",
        "import efficientnet.tfkeras as efn"
      ]
    },
    {
      "cell_type": "code",
      "execution_count": null,
      "metadata": {
        "id": "MQ58qk70FYDw"
      },
      "outputs": [],
      "source": [
        "from helper_functions.utils import *"
      ]
    },
    {
      "cell_type": "code",
      "source": [
        "def countRecords(ds:tf.data.Dataset):\n",
        "  count = 0\n",
        "\n",
        "  if tf.executing_eagerly():\n",
        "    # TF v2 or v1 in eager mode\n",
        "    for r in ds:\n",
        "      count = count+1\n",
        "  else:  \n",
        "    # TF v1 in non-eager mode\n",
        "    iterator = tf.compat.v1.data.make_one_shot_iterator(ds)\n",
        "    next_batch = iterator.get_next()\n",
        "    with tf.compat.v1.Session() as sess:\n",
        "      try:\n",
        "        while True:\n",
        "          sess.run(next_batch)\n",
        "          count = count+1    \n",
        "      except tf.errors.OutOfRangeError:\n",
        "        pass\n",
        "  \n",
        "  return count"
      ],
      "metadata": {
        "id": "HGdej6OCer54"
      },
      "execution_count": null,
      "outputs": []
    },
    {
      "cell_type": "code",
      "source": [
        "def load_dataset_new(filenames, labeled = True, ordered = False):\n",
        "    dataset = tf.data.TFRecordDataset(filenames, num_parallel_reads=AUTO)\n",
        "    ignore_order = tf.data.Options()\n",
        "    ignore_order.experimental_deterministic = ordered \n",
        "    dataset = dataset.with_options(ignore_order)\n",
        "    dataset = dataset.map(read_labeled_tfrecord if labeled else \n",
        "                          read_unlabeled_tfrecord, num_parallel_calls=AUTO)\n",
        "    return dataset"
      ],
      "metadata": {
        "id": "R2nD00CRR0Xr"
      },
      "execution_count": null,
      "outputs": []
    },
    {
      "cell_type": "code",
      "source": [
        "def getTrainingElements(image, target):\n",
        "  return image, target"
      ],
      "metadata": {
        "id": "RAD42Ku2rNqu"
      },
      "execution_count": null,
      "outputs": []
    },
    {
      "cell_type": "code",
      "source": [
        "def get_built_train_dataset(built_train_dataset,buf_size):\n",
        "  built_train_dataset = built_train_dataset.map(lambda image, image_name, target:\n",
        "                                          getTrainingElements(image, target), \n",
        "                                          num_parallel_calls=AUTO)\n",
        "  built_train_dataset = built_train_dataset.repeat() \n",
        "  built_train_dataset = built_train_dataset.shuffle(buffer_size = buf_size)\n",
        "  built_train_dataset = built_train_dataset.batch(BATCH_SIZE)\n",
        "  built_train_dataset = built_train_dataset.prefetch(AUTO)\n",
        "\n",
        "  return built_train_dataset \n"
      ],
      "metadata": {
        "id": "T2w5v0cFm9yH"
      },
      "execution_count": null,
      "outputs": []
    },
    {
      "cell_type": "code",
      "source": [
        "def get_built_valid_dataset(built_valid_dataset):\n",
        "  built_valid_dataset = built_valid_dataset.map(lambda image, image_name, target:\n",
        "                                          getTrainingElements(image, target), \n",
        "                                          num_parallel_calls=AUTO)\n",
        "  built_valid_dataset = built_valid_dataset.batch(BATCH_SIZE)\n",
        "  built_valid_dataset = built_valid_dataset.cache() \n",
        "  built_valid_dataset = built_valid_dataset.prefetch(AUTO)\n",
        "\n",
        "  return built_valid_dataset"
      ],
      "metadata": {
        "id": "i2kJrH_CnoPz"
      },
      "execution_count": null,
      "outputs": []
    },
    {
      "cell_type": "code",
      "source": [
        "def get_built_test_dataset(built_test_dataset):\n",
        "  #built_test_dataset = built_test_dataset.batch(1000)\n",
        "  # built_test_dataset = built_test_dataset.map(lambda image, image_name, target:image_name, \n",
        "  #                                         num_parallel_calls=AUTO)\n",
        "  built_test_dataset = built_test_dataset.cache() \n",
        "  built_test_dataset = built_test_dataset.prefetch(AUTO)\n",
        "  \n",
        "  return built_test_dataset"
      ],
      "metadata": {
        "id": "k9eO6Lasp1ez"
      },
      "execution_count": null,
      "outputs": []
    },
    {
      "cell_type": "code",
      "source": [
        "def is_test(x, y):\n",
        "  return x % 10 == 7\n",
        "\n",
        "def is_train(x, y):\n",
        "  return x % 10 <7\n",
        "\n",
        "def is_valid(x, y):\n",
        "  return x % 10 >7\n",
        "\n",
        "def splitDataset(dataset,shuffle=False):\n",
        "  countRecs = countRecords(dataset)\n",
        "  recover = lambda x,y: y\n",
        "  if shuffle:\n",
        "    dataset = dataset.shuffle(countRecs, reshuffle_each_iteration=False)\n",
        "\n",
        "  test_dataset = dataset.enumerate().filter(is_test).map(lambda x,y: y) \n",
        "  val_dataset = dataset.enumerate().filter(is_valid).map(lambda x,y: y) \n",
        "  train_dataset = dataset.enumerate().filter(is_train).map(lambda x,y: y)\n",
        "\n",
        "  return train_dataset, val_dataset, test_dataset\n",
        "\n"
      ],
      "metadata": {
        "id": "AEZLMdmxqgAW"
      },
      "execution_count": null,
      "outputs": []
    },
    {
      "cell_type": "code",
      "source": [
        "def decode_image_new(image_data, image_name, label, resize, target_size):\n",
        "    # Used for the validation set (for now)\n",
        "    image = tf.image.decode_jpeg(image_data, channels=N_CHANNELS)\n",
        "    image = tf.cast(image, tf.float32) / 255.0  # convert image to floats in [0, 1] range\n",
        "    if resize:\n",
        "        image = tf.image.resize(image, target_size)\n",
        "    image = tf.reshape(image, [*target_size, N_CHANNELS]) # explicit size NEEDED for TPU\n",
        "    return image, image_name, label"
      ],
      "metadata": {
        "id": "yn2nIgCO_P3J"
      },
      "execution_count": null,
      "outputs": []
    },
    {
      "cell_type": "code",
      "source": [
        "def data_augment_new(image, image_name, label_or_id, DIM, target_size, augm_method): \n",
        "    # image = tf.image.decode_jpeg(image, channels=N_CHANNELS)\n",
        "    # image = tf.cast(image, tf.float32) / 255.0  # convert image to floats in [0, 1] range\n",
        "    # image = tf.image.resize(image, target_size)\n",
        "\n",
        "    # during TTA, label_or_id will be image_name for test set.\n",
        "    if augm_method == 1:\n",
        "    #if tf.keras.backend.random_bernoulli((1,), p=0.4) > 0:\n",
        "        image = rotate_img(image, DIM = DIM)\n",
        "    elif augm_method == 2:\n",
        "    #elif tf.keras.backend.random_bernoulli((1,), p=0.2) > 0:\n",
        "        image = shear_img(image, DIM = DIM)\n",
        "    elif augm_method == 3:\n",
        "      image = tf.image.random_flip_left_right(image)\n",
        "    elif augm_method == 4:\n",
        "      image = tf.image.random_flip_up_down(image)\n",
        "    elif augm_method == 5:\n",
        "      image = tf.image.random_hue(image, 0.025)\n",
        "    elif augm_method == 6:\n",
        "      image = tf.image.random_saturation(image, 0.7, 1.4)\n",
        "    elif augm_method == 7:\n",
        "      image = tf.image.random_contrast(image, 0.7, 1.4)\n",
        "    elif augm_method == 8:\n",
        "      image = tf.image.random_brightness(image, 0.2)\n",
        "\n",
        "    #image = tf.reshape(image, [*target_size, N_CHANNELS]) # explicit size NEEDED for TPU\n",
        "    return image, image_name, label_or_id"
      ],
      "metadata": {
        "id": "hja1o0XDtpfK"
      },
      "execution_count": null,
      "outputs": []
    },
    {
      "cell_type": "code",
      "source": [
        "def augmentImages(dataset_test_true,dim):\n",
        "\n",
        "  dataset_test_true_aug = dataset_test_true.map(lambda image, image_name, target: \n",
        "                            data_augment_new(image, image_name, target, dim, [dim, dim],1), \n",
        "                            num_parallel_calls=AUTO)\n",
        "  dataset_test_true_aug = dataset_test_true_aug.concatenate(dataset_test_true.map(lambda image, image_name, target: \n",
        "                            data_augment_new(image, image_name, target, dim, [dim, dim],2), \n",
        "                            num_parallel_calls=AUTO))\n",
        "  dataset_test_true_aug = dataset_test_true_aug.concatenate(dataset_test_true.map(lambda image, image_name, target: \n",
        "                            data_augment_new(image, image_name, target, dim, [dim, dim],3), \n",
        "                            num_parallel_calls=AUTO))\n",
        "  dataset_test_true_aug = dataset_test_true_aug.concatenate(dataset_test_true.map(lambda image, image_name, target: \n",
        "                            data_augment_new(image, image_name, target, dim, [dim, dim],4), \n",
        "                            num_parallel_calls=AUTO))\n",
        "  dataset_test_true_aug = dataset_test_true_aug.concatenate(dataset_test_true.map(lambda image, image_name, target: \n",
        "                            data_augment_new(image, image_name, target, dim, [dim, dim],5), \n",
        "                            num_parallel_calls=AUTO))\n",
        "  dataset_test_true_aug = dataset_test_true_aug.concatenate(dataset_test_true.map(lambda image, image_name, target: \n",
        "                            data_augment_new(image, image_name, target, dim, [dim, dim],6), \n",
        "                            num_parallel_calls=AUTO))\n",
        "  dataset_test_true_aug = dataset_test_true_aug.concatenate(dataset_test_true.map(lambda image, image_name, target: \n",
        "                            data_augment_new(image, image_name, target, dim, [dim, dim],7), \n",
        "                            num_parallel_calls=AUTO))\n",
        "  dataset_test_true_aug = dataset_test_true_aug.concatenate(dataset_test_true.map(lambda image, image_name, target: \n",
        "                            data_augment_new(image, image_name, target, dim, [dim, dim],8), \n",
        "                            num_parallel_calls=AUTO))\n",
        "\n",
        "  # dataset_test_true_aug = dataset_test_true_aug.concatenate(dataset_test_true.map(lambda image, image_name, target: \n",
        "  #                           data_augment_new(image, image_name, target, dim, [dim, dim],0), \n",
        "  #                           num_parallel_calls=AUTO))\n",
        "  dataset_test_true_aug = dataset_test_true_aug.cache()\n",
        "  dataset_test_true_aug = dataset_test_true_aug.prefetch(AUTO)\n",
        "\n",
        "  return dataset_test_true_aug"
      ],
      "metadata": {
        "id": "e62d_kv2yj_y"
      },
      "execution_count": null,
      "outputs": []
    },
    {
      "cell_type": "code",
      "source": [
        "def build_datasets_new(model_dict):\n",
        "    DIM = model_dict['DIM']\n",
        "\n",
        "    all_train_dataset_2020  = load_dataset_new([TRAIN_2020],ordered =False)\n",
        "\n",
        "    all_train_dataset_true  = all_train_dataset_2020.filter(lambda image, image_name, target: tf.reduce_all(tf.not_equal(target, [0])))\n",
        "    all_train_dataset_true = all_train_dataset_true.map(lambda image, image_name, target: \n",
        "                          decode_image_new(image, image_name, target, True, [DIM,DIM]),\n",
        "                          num_parallel_calls=AUTO)\n",
        "    all_train_dataset_true = all_train_dataset_true.cache() \n",
        "    all_train_dataset_true  = all_train_dataset_true.prefetch(AUTO)\n",
        "\n",
        "    train_dataset_true, val_dataset_true, test_dataset_true = splitDataset(all_train_dataset_true,shuffle=True)\n",
        "    count_train_true = countRecords(train_dataset_true)\n",
        "    count_valid_true = countRecords(val_dataset_true)\n",
        "    count_test_true  = countRecords(test_dataset_true)\n",
        "    print(\"============= Initial Malignant Data Counts ==============\")\n",
        "    print(\" Training : \",count_train_true)\n",
        "    print(\" Validation: \",count_valid_true)\n",
        "    print(\" Test : \",count_test_true)\n",
        "    print(\"==========================================================\")\n",
        "    train_dataset_true_aug = augmentImages(train_dataset_true,DIM)\n",
        "    count_train_true_aug = countRecords(train_dataset_true_aug)\n",
        "    print(\" Augmented Malignant Training Count : \",count_train_true_aug)\n",
        "    build_train_dataset_true = train_dataset_true_aug.concatenate(train_dataset_true)\n",
        "    count_build_train_true = countRecords(build_train_dataset_true)\n",
        "    print(\" All Malignant Training Count : \",count_build_train_true)\n",
        "\n",
        "    all_train_dataset_false = all_train_dataset_2020.filter(lambda image, image_name, target: tf.reduce_all(tf.not_equal(target, [1])))\n",
        "    all_train_dataset_false = all_train_dataset_false.map(lambda image, image_name, target: \n",
        "                          decode_image_new(image, image_name, target, True, [DIM,DIM]),\n",
        "                          num_parallel_calls=AUTO)\n",
        "    all_train_dataset_false = all_train_dataset_false.cache() \n",
        "    all_train_dataset_false  = all_train_dataset_false.prefetch(AUTO)\n",
        "\n",
        "    train_dataset_false, val_dataset_false, test_dataset_false = splitDataset(all_train_dataset_false,shuffle=True)\n",
        "    count_train_false = countRecords(train_dataset_false)\n",
        "    count_val_false   = countRecords(val_dataset_false) \n",
        "    count_test_false  = countRecords(test_dataset_false)\n",
        "    print(\"============= Initial Bening Data Counts ==============\")\n",
        "    print(\" Training : \",count_train_false)\n",
        "    print(\" Validation: \",count_val_false)\n",
        "    print(\" Test : \",count_test_false)\n",
        "    print(\"==========================================================\")\n",
        "    train_dataset_false = train_dataset_false.take(count_build_train_true)\n",
        "    val_dataset_false = val_dataset_false.take(count_valid_true*2)\n",
        "    test_dataset_false = val_dataset_false.take(count_test_true*2)\n",
        "    count_built_train_false = countRecords(train_dataset_false)\n",
        "    count_built_val_false   = countRecords(val_dataset_false) \n",
        "    count_built_test_false  = countRecords(test_dataset_false)\n",
        "    print(\"============= Selected Bening Data Counts ==============\")\n",
        "    print(\" Training : \",count_built_train_false)\n",
        "    print(\" Validation: \",count_built_val_false)\n",
        "    print(\" Test : \",count_built_test_false)\n",
        "    print(\"==========================================================\")\n",
        "\n",
        "    built_train_dataset = train_dataset_false.concatenate(build_train_dataset_true)\n",
        "    built_valid_dataset = val_dataset_false.concatenate(val_dataset_true)\n",
        "    built_test_dataset  = test_dataset_false.concatenate(test_dataset_true)\n",
        "    \n",
        "    NUM_TRAINING_IMAGES = countRecords(built_train_dataset)\n",
        "    NUM_VALIDATION_IMAGES = countRecords(built_valid_dataset)\n",
        "    NUM_TEST_IMAGES = countRecords(built_test_dataset)\n",
        "    STEPS_PER_EPOCH = np.ceil(NUM_TRAINING_IMAGES/BATCH_SIZE).astype(int) \n",
        "\n",
        "    built_train_dataset = get_built_train_dataset(built_train_dataset,NUM_TRAINING_IMAGES)\n",
        "\n",
        "    built_valid_dataset = get_built_valid_dataset(built_valid_dataset)\n",
        "\n",
        "    built_test_dataset = get_built_test_dataset(built_test_dataset)\n",
        "    #LIST_BULD_TESTDATASET.append({model_dict[\"name\"]:built_test_dataset})\n",
        "\n",
        "    print(\"============= Final Built Data Counts ==============\")\n",
        "    print(\" Training : \",NUM_TRAINING_IMAGES)\n",
        "    print(\" Validation: \",NUM_VALIDATION_IMAGES)\n",
        "    print(\" Test : \",NUM_TEST_IMAGES)\n",
        "    print(\"==========================================================\")\n",
        "\n",
        "    print('\\n')\n",
        "    describe_ds(built_train_dataset)\n",
        "    describe_ds(built_valid_dataset)\n",
        "    describe_ds(built_test_dataset)\n",
        "    return built_train_dataset, built_valid_dataset, built_test_dataset, STEPS_PER_EPOCH, [NUM_TRAINING_IMAGES, NUM_VALIDATION_IMAGES, NUM_TEST_IMAGES]"
      ],
      "metadata": {
        "id": "y9q0xtPiPqb6"
      },
      "execution_count": null,
      "outputs": []
    },
    {
      "cell_type": "code",
      "source": [
        "def showAugmentedImages(dataset_orig, dataset_aug, idx=0):\n",
        "  countAug = countRecords(dataset_aug)\n",
        "  countOrg = countRecords(dataset_orig)\n",
        "  list_imgs = []\n",
        "\n",
        "  image, image_name, label = next(iter(dataset_aug.skip(idx)))\n",
        "  if label ==1:\n",
        "    img_label = \"MALIGNANT\"\n",
        "  elif label ==0:\n",
        "    img_label = \"BENIGN\"\n",
        "  plt.imshow(image)\n",
        "  plt.title(\"Original Image (\" + str(image_name.numpy())+\" => \"+ img_label+\" )\")\n",
        "  plt.axis(\"off\")\n",
        "\n",
        "  for i in range(8):\n",
        "    i += ((countOrg-1)*i)+idx\n",
        "    print(\" ==> \",i)\n",
        "    image, image_name, label = next(iter(dataset_aug.skip(i)))\n",
        "    imgAug = {\n",
        "        \"image\":image,\n",
        "        \"image_name\":image_name,\n",
        "        \"label\":label\n",
        "    }\n",
        "    list_imgs.append(imgAug)\n",
        "  plt.figure(figsize=(25, 25))\n",
        "  for index,imgs in enumerate(list_imgs):\n",
        "    ax = plt.subplot(5, 5, index + 1)\n",
        "    plt.imshow(imgs.get(\"image\"))\n",
        "    if imgs.get(\"label\") ==1:\n",
        "      img_label = \"MALIGNANT\"\n",
        "    elif imgs.get(\"label\") ==0:\n",
        "      img_label = \"BENIGN\"\n",
        "    plt.title(str(imgs.get(\"image_name\").numpy())+\" => \"+ img_label)\n",
        "    plt.axis(\"off\")\n"
      ],
      "metadata": {
        "id": "Oz3_VzISWMTJ"
      },
      "execution_count": null,
      "outputs": []
    },
    {
      "cell_type": "markdown",
      "metadata": {
        "id": "zMkYHOE-ueJs"
      },
      "source": [
        "# **Data Visualization**"
      ]
    },
    {
      "cell_type": "code",
      "execution_count": null,
      "metadata": {
        "colab": {
          "base_uri": "https://localhost:8080/"
        },
        "id": "DNm5CjR9u3sG",
        "outputId": "353315b3-9fc7-4f44-e46b-cce8170bf958"
      },
      "outputs": [
        {
          "output_type": "stream",
          "name": "stderr",
          "text": [
            "/usr/local/lib/python3.7/dist-packages/tensorflow/python/util/dispatch.py:1096: UserWarning: `tf.keras.backend.random_binomial` is deprecated, and will be removed in a future version.Please use `tf.keras.backend.random_bernoulli` instead.\n",
            "  return dispatch_target(*args, **kwargs)\n"
          ]
        }
      ],
      "source": [
        "gen_examples = True #@param {type:\"boolean\"}\n",
        "num_batches = 5 #@param [2, 3, 5, 10] {type:'raw'}\n",
        "\n",
        "if gen_examples:\n",
        "    temp_filenames, _ = get_fold_file_lists(folds[4], data_2018=False)\n",
        "    temp_dataset = get_training_dataset(temp_filenames, 224)\n",
        "    raw_tuples = generate_examples(ds = temp_dataset, n_batches = num_batches)\n",
        "    "
      ]
    },
    {
      "cell_type": "code",
      "execution_count": null,
      "metadata": {
        "colab": {
          "base_uri": "https://localhost:8080/",
          "height": 256
        },
        "id": "jBbqfzz7JC-q",
        "outputId": "7ef982f7-17ae-4718-b476-5cc6f57bf97e"
      },
      "outputs": [
        {
          "output_type": "stream",
          "name": "stdout",
          "text": [
            "Label: Benign\n",
            "Image size: (224, 224, 3)\n"
          ]
        },
        {
          "output_type": "display_data",
          "data": {
            "image/png": "[encoded data removed]",
            "text/plain": [
              "<Figure size 252x252 with 1 Axes>"
            ]
          },
          "metadata": {
            "needs_background": "dark"
          }
        }
      ],
      "source": [
        "idx = 0\n",
        "if gen_examples:\n",
        "    if idx >= len(raw_tuples): idx = -1\n",
        "    example_tuple = raw_tuples[idx]\n",
        "    plot_example(example_tuple, print_size=True)\n",
        "else: print('examples have not been generated')"
      ]
    },
    {
      "cell_type": "code",
      "execution_count": null,
      "metadata": {
        "id": "8xntON_uMY6m"
      },
      "outputs": [],
      "source": [
        "def build_model(base, n_classes, shape, head_dropout = False):\n",
        "    inp = L.Input(shape=shape)\n",
        "    x = base(inp)\n",
        "    x = L.GlobalAveragePooling2D()(x)\n",
        "\n",
        "    if head_dropout:\n",
        "        x = L.Dropout(head_dropout)(x)\n",
        "\n",
        "    x_out = L.Dense(n_classes, activation='sigmoid')(x)\n",
        "    model = tf.keras.Model(inputs=inp, outputs=x_out, \n",
        "                           name='{}_base_model'.format(base.name.title()))\n",
        "    return model\n",
        "\n",
        "def ensemble_component(model_dict):\n",
        "    # Get Specs\n",
        "    base_model = model_dict['base_model']\n",
        "    DIM = model_dict['DIM']\n",
        "    weights = model_dict['weights']\n",
        "    opt = model_dict['opt']\n",
        "    head_dropout = model_dict['head_dropout']\n",
        "    INPUT_SHAPE = (DIM, DIM, N_CHANNELS)\n",
        "\n",
        "    # Build Model\n",
        "    K.clear_session()\n",
        "    with strategy.scope():\n",
        "        base = base_model(weights=weights, include_top=False, \n",
        "                          input_shape=INPUT_SHAPE)                                       \n",
        "        model = build_model(base, N_CLASSES, INPUT_SHAPE, \n",
        "                            head_dropout = head_dropout) \n",
        "        model.compile(optimizer=opt, loss=loss, metrics=['AUC','accuracy']) \n",
        "    return model, base.name"
      ]
    },
    {
      "cell_type": "markdown",
      "metadata": {
        "id": "1S30dqbpMgUe"
      },
      "source": [
        "# Learning Rate Schedule, Loss"
      ]
    },
    {
      "cell_type": "code",
      "execution_count": null,
      "metadata": {
        "colab": {
          "base_uri": "https://localhost:8080/",
          "height": 265
        },
        "id": "TFdASiPoMdy1",
        "outputId": "3622c7ee-7189-43eb-c9ae-1d890f562d27"
      },
      "outputs": [
        {
          "output_type": "display_data",
          "data": {
            "image/png": "[encoded data removed]",
            "text/plain": [
              "<Figure size 576x288 with 1 Axes>"
            ]
          },
          "metadata": {
            "needs_background": "dark"
          }
        }
      ],
      "source": [
        "lr_params =  [1e-5,  3e-4,  1e-6, 2, 2, 8e-1]\n",
        "\n",
        "def lrfn(epoch, lr_params = lr_params):\n",
        "    lr_start, lr_max, lr_min, lr_ramp_ep, lr_sus_ep, lr_decay = lr_params\n",
        "    if epoch < lr_ramp_ep:\n",
        "        lr = (lr_max - lr_start) / lr_ramp_ep * epoch + lr_start\n",
        "    elif epoch < lr_ramp_ep + lr_sus_ep:\n",
        "        lr = lr_max \n",
        "    else:\n",
        "        lr = (lr_max - lr_min)*lr_decay**(epoch - lr_ramp_ep - lr_sus_ep) + lr_min\n",
        "    return lr\n",
        "\n",
        "def lr_schedule_builder(params):\n",
        "    return tf.keras.callbacks.LearningRateScheduler(\n",
        "        lambda epoch: lrfn(epoch, params), verbose=False) \n",
        "\n",
        "lr_sched = lr_schedule_builder(lr_params)\n",
        "\n",
        "label_smoothing = 0.05\n",
        "loss = tf.keras.losses.BinaryCrossentropy(label_smoothing=label_smoothing) \n",
        "\n",
        "plot_lr_timeline(lrfn, lr_params, num_epochs = EPOCHS)"
      ]
    },
    {
      "cell_type": "markdown",
      "metadata": {
        "id": "dRbipz75MrXd"
      },
      "source": [
        "### Summary and Log Function"
      ]
    },
    {
      "cell_type": "code",
      "execution_count": null,
      "metadata": {
        "id": "Ac7Jk_1KMsBv"
      },
      "outputs": [],
      "source": [
        "def sess_summary(model_dict, counts, dataset_deets = True): \n",
        "    DIM = model_dict['DIM']\n",
        "    INPUT_SHAPE = (DIM, DIM, N_CHANNELS)\n",
        "    log_name = '{}_F{}_summary.txt'.format(model_dict['name'], model_dict['fold'])\n",
        "    with open(log_name, 'w') as f:\n",
        "        f.write('\\nBase: {}'.format(base_name.title()))\n",
        "        f.write('\\nFold num: {}'.format(model_dict['fold']))\n",
        "        f.write('\\nWeights: {}\\n'.format(model_dict['weights']))\n",
        "\n",
        "        if dataset_deets:\n",
        "            f.write('\\nValidation shards: {}'.format(folds[model_dict['fold']]['val']))\n",
        "            f.write('\\nTotal training images: {}'.format(counts[0]))\n",
        "            f.write('\\nTotal val images: {}'.format(counts[1]))\n",
        "            f.write('\\nBatch size: {}'.format(BATCH_SIZE))\n",
        "            f.write('\\nMax number of epochs: {}'.format(EPOCHS))\n",
        "            f.write('\\nSteps per epoch: {}\\n'.format(STEPS_PER_EPOCH))\n",
        "\n",
        "        f.write('\\nTPU implemented: {}'.format('Yes' if tpu != None else 'No'))\n",
        "        f.write('\\nNumber of replicas: {}'.format(strategy.num_replicas_in_sync))\n",
        "        f.write('\\nSize of input: {}'.format(INPUT_SHAPE))\n",
        "        f.write('\\nOptimizer: {}'.format(str(model_dict['opt']).split('.')[-2].title()))\n",
        "        f.write('\\nLR strategy: {}'.format(str(lr_sched).split('.')[2].split(' ')[0]))\n",
        "        f.write('\\nLR sched params: {}'.format(lr_params))\n",
        "        f.write('\\nLoss: {}'.format(str(loss).split('.')[2].split(' ')[0]))\n",
        "        f.write('\\nLabel smoothing: {}\\n\\n'.format(label_smoothing))\n",
        "    !cat {log_name}"
      ]
    },
    {
      "cell_type": "code",
      "source": [
        "def sess_summary_new(model_dict, counts, dataset_deets = True): \n",
        "    DIM = model_dict['DIM']\n",
        "    INPUT_SHAPE = (DIM, DIM, N_CHANNELS)\n",
        "    log_name = '{}_F{}_summary.txt'.format(model_dict['name'], model_dict['fold'])\n",
        "    with open(log_name, 'w') as f:\n",
        "        f.write('\\nBase: {}'.format(base_name.title()))\n",
        "        f.write('\\nWeights: {}\\n'.format(model_dict['weights']))\n",
        "\n",
        "        if dataset_deets:\n",
        "            f.write('\\nTotal training images: {}'.format(counts[0]))\n",
        "            f.write('\\nTotal val images: {}'.format(counts[1]))\n",
        "            f.write('\\nBatch size: {}'.format(BATCH_SIZE))\n",
        "            f.write('\\nMax number of epochs: {}'.format(EPOCHS))\n",
        "            f.write('\\nSteps per epoch: {}\\n'.format(STEPS_PER_EPOCH))\n",
        "\n",
        "        f.write('\\nTPU implemented: {}'.format('Yes' if tpu != None else 'No'))\n",
        "        f.write('\\nNumber of replicas: {}'.format(strategy.num_replicas_in_sync))\n",
        "        f.write('\\nSize of input: {}'.format(INPUT_SHAPE))\n",
        "        f.write('\\nOptimizer: {}'.format(str(model_dict['opt']).split('.')[-2].title()))\n",
        "        f.write('\\nLR strategy: {}'.format(str(lr_sched).split('.')[2].split(' ')[0]))\n",
        "        f.write('\\nLR sched params: {}'.format(lr_params))\n",
        "        f.write('\\nLoss: {}'.format(str(loss).split('.')[2].split(' ')[0]))\n",
        "        f.write('\\nLabel smoothing: {}\\n\\n'.format(label_smoothing))\n",
        "    !cat {log_name}"
      ],
      "metadata": {
        "id": "zs4lTC6bzpi3"
      },
      "execution_count": null,
      "outputs": []
    },
    {
      "cell_type": "markdown",
      "metadata": {
        "id": "RcmMrc8vOvQR"
      },
      "source": [
        "# **Training**"
      ]
    },
    {
      "cell_type": "code",
      "execution_count": null,
      "metadata": {
        "cellView": "code",
        "id": "la3oM60JOU1D"
      },
      "outputs": [],
      "source": [
        "#@title Training Dictionaries (Training Parameters)\n",
        "#@markdown - EfficientNet B3\n",
        "EB3_F0 = {'base_model': efn_dict[3]['model'], \n",
        "            'DIM': efn_dict[3]['size'],\n",
        "            'opt': opts['Nadam'],\n",
        "            'weights': 'noisy-student',\n",
        "            'head_dropout': 0.5, \n",
        "            'name': 'EB3',\n",
        "            'fold': 0}  \n",
        "\n",
        "EB3_F1 = {'base_model': efn_dict[3]['model'], \n",
        "            'DIM': efn_dict[3]['size'],\n",
        "            'opt': opts['Nadam'],\n",
        "            'weights': 'noisy-student',\n",
        "            'head_dropout': 0.5, \n",
        "            'name': 'EB3',\n",
        "            'fold': 1}  \n",
        "\n",
        "EB3_F2 = {'base_model': efn_dict[3]['model'], \n",
        "            'DIM': efn_dict[3]['size'],\n",
        "            'opt': opts['Radam'],\n",
        "            'weights': 'noisy-student',\n",
        "            'head_dropout': False, \n",
        "            'name': 'EB3',\n",
        "            'fold': 2}  \n",
        "\n",
        "EB3_F3 = {'base_model': efn_dict[3]['model'], \n",
        "            'DIM': efn_dict[3]['size'],\n",
        "            'opt': opts['Radam'],\n",
        "            'weights': 'noisy-student',\n",
        "            'head_dropout': 0.2, \n",
        "            'name': 'EB3',\n",
        "            'fold': 3}\n",
        "\n",
        "EB3_F4 = {'base_model': efn_dict[3]['model'], \n",
        "            'DIM': efn_dict[3]['size'],\n",
        "            'opt': opts['Radam'],\n",
        "            'weights': 'noisy-student',\n",
        "            'head_dropout': False, \n",
        "            'name': 'EB4',\n",
        "            'fold': 4}\n",
        "\n",
        "#@markdown - EfficientNet B4 \n",
        "EB4_F0 = {'base_model': efn_dict[4]['model'],\n",
        "            'DIM': efn_dict[4]['size'],\n",
        "            'opt': opts['Nadam'],\n",
        "            'weights': 'noisy-student',\n",
        "            'head_dropout': False,\n",
        "            'name': 'EB4',\n",
        "            'fold': 0}\n",
        "\n",
        "EB4_F1 = {'base_model': efn_dict[4]['model'],\n",
        "            'DIM': efn_dict[4]['size'],\n",
        "            'opt': opts['Radam'],\n",
        "            'weights': 'noisy-student',\n",
        "            'head_dropout': False,\n",
        "            'name': 'EB4',\n",
        "            'fold': 1}\n",
        "\n",
        "EB4_F2 = {'base_model': efn_dict[4]['model'],\n",
        "            'DIM': efn_dict[4]['size'],\n",
        "            'opt': opts['Nadam'],\n",
        "            'weights': 'noisy-student',\n",
        "            'head_dropout': False,\n",
        "            'name': 'EB4',\n",
        "            'fold': 2}\n",
        "\n",
        "EB4_F3 = {'base_model': efn_dict[4]['model'], \n",
        "            'DIM': efn_dict[4]['size'],\n",
        "            'opt': opts['Nadam'],\n",
        "            'weights': 'noisy-student',\n",
        "            'head_dropout': False,\n",
        "            'name': 'EB4',\n",
        "            'fold': 3}  \n",
        "\n",
        "EB4_F4 = {'base_model': efn_dict[4]['model'], \n",
        "            'DIM': efn_dict[4]['size'],\n",
        "            'opt': opts['Nadam'],\n",
        "            'weights': 'noisy-student',\n",
        "            'head_dropout': False, \n",
        "            'name': 'EB4',\n",
        "            'fold': 4}\n",
        "\n",
        "EB5_F1 = {'base_model': efn_dict[5]['model'], \n",
        "            'DIM': efn_dict[5]['size'],\n",
        "            'opt': opts['Nadam'],\n",
        "            'weights': 'noisy-student',\n",
        "            'head_dropout': 0.2, \n",
        "            'name': 'EB5',\n",
        "            'fold': 1}\n",
        "#@markdown - EfficientNet B6 \n",
        "EB6_F0 = {'base_model': efn_dict[6]['model'],\n",
        "            'DIM': efn_dict[6]['size'],\n",
        "            'opt': opts['Nadam'],\n",
        "            'weights': 'noisy-student',\n",
        "            'head_dropout': False,\n",
        "            'name': 'EB6',\n",
        "            'fold': 0}\n",
        "\n",
        "EB6_F1 = {'base_model': efn_dict[6]['model'],\n",
        "            'DIM': efn_dict[6]['size'],\n",
        "            'opt': opts['Radam'],\n",
        "            'weights': 'imagenet',\n",
        "            'head_dropout': 0.5,\n",
        "            'name': 'EB6',\n",
        "            'fold': 1}\n",
        "\n",
        "EB6_F2 = {'base_model': efn_dict[6]['model'],\n",
        "            'DIM': efn_dict[6]['size'],\n",
        "            'opt': opts['Nadam'],\n",
        "            'weights': 'noisy-student',\n",
        "            'head_dropout': False,\n",
        "            'name': 'EB6',\n",
        "            'fold': 2}\n",
        "\n",
        "EB6_F3 = {'base_model': efn_dict[6]['model'], \n",
        "            'DIM': efn_dict[6]['size'],\n",
        "            'opt': opts['Nadam'],\n",
        "            'weights': 'noisy-student',\n",
        "            'head_dropout': 0.2,\n",
        "            'name': 'EB6',\n",
        "            'fold': 3}\n",
        "\n",
        "EB6_F4 = {'base_model': efn_dict[6]['model'],\n",
        "            'DIM': efn_dict[6]['size'],\n",
        "            'opt': opts['Nadam'],\n",
        "            'weights': 'noisy-student',\n",
        "            'head_dropout': False,\n",
        "            'name': 'EB6',\n",
        "            'fold': 4}"
      ]
    },
    {
      "cell_type": "code",
      "execution_count": null,
      "metadata": {
        "id": "Yfd5ZWc0Og15"
      },
      "outputs": [],
      "source": [
        "ensemble_components = [EB5_F1]"
      ]
    },
    {
      "cell_type": "code",
      "execution_count": null,
      "metadata": {
        "id": "GQJDFhAZjGnh"
      },
      "outputs": [],
      "source": [
        "list_history = []"
      ]
    },
    {
      "cell_type": "code",
      "source": [
        "dict_test_dataset = {}"
      ],
      "metadata": {
        "id": "ZNafwhhs-t6m"
      },
      "execution_count": null,
      "outputs": []
    },
    {
      "cell_type": "code",
      "execution_count": null,
      "metadata": {
        "colab": {
          "base_uri": "https://localhost:8080/"
        },
        "id": "R3EYrwjlOuWH",
        "outputId": "b2ec8226-7b27-4ef9-cff2-ed976a0a5952"
      },
      "outputs": [
        {
          "output_type": "stream",
          "name": "stdout",
          "text": [
            "============= Initial Malignant Data Counts ==============\n",
            " Training :  407\n",
            " Validation:  116\n",
            " Test :  58\n",
            "==========================================================\n",
            " Augmented Malignant Training Count :  3256\n",
            " All Malignant Training Count :  3663\n",
            "============= Initial Bening Data Counts ==============\n",
            " Training :  22478\n",
            " Validation:  6422\n",
            " Test :  3211\n",
            "==========================================================\n",
            "============= Selected Bening Data Counts ==============\n",
            " Training :  3663\n",
            " Validation:  232\n",
            " Test :  116\n",
            "==========================================================\n",
            "============= Final Built Data Counts ==============\n",
            " Training :  7326\n",
            " Validation:  348\n",
            " Test :  174\n",
            "==========================================================\n",
            "\n",
            "\n",
            "Dataset: shapes: ((None, 456, 456, 3), (None,)), types: (tf.float32, tf.int64)\n",
            "Dataset: shapes: ((None, 456, 456, 3), (None,)), types: (tf.float32, tf.int64)\n",
            "Dataset: shapes: ((456, 456, 3), (), ()), types: (tf.float32, tf.string, tf.int64)\n",
            "\n",
            "Base: Efficientnet-B5\n",
            "Weights: noisy-student\n",
            "\n",
            "Total training images: 7326\n",
            "Total val images: 348\n",
            "Batch size: 64\n",
            "Max number of epochs: 25\n",
            "Steps per epoch: 115\n",
            "\n",
            "TPU implemented: Yes\n",
            "Number of replicas: 8\n",
            "Size of input: (456, 456, 3)\n",
            "Optimizer: Nadam\n",
            "LR strategy: LearningRateScheduler\n",
            "LR sched params: [1e-05, 0.0003, 1e-06, 2, 2, 0.8]\n",
            "Loss: BinaryCrossentropy\n",
            "Label smoothing: 0.05\n",
            "\n",
            "Epoch 1/25\n",
            "WARNING:tensorflow:From /usr/local/lib/python3.7/dist-packages/keras/engine/training.py:2970: StrategyBase.unwrap (from tensorflow.python.distribute.distribute_lib) is deprecated and will be removed in a future version.\n",
            "Instructions for updating:\n",
            "use `experimental_local_results` instead.\n"
          ]
        },
        {
          "output_type": "stream",
          "name": "stderr",
          "text": [
            "WARNING:tensorflow:From /usr/local/lib/python3.7/dist-packages/keras/engine/training.py:2970: StrategyBase.unwrap (from tensorflow.python.distribute.distribute_lib) is deprecated and will be removed in a future version.\n",
            "Instructions for updating:\n",
            "use `experimental_local_results` instead.\n"
          ]
        },
        {
          "output_type": "stream",
          "name": "stdout",
          "text": [
            "115/115 [==============================] - 347s 1s/step - loss: 0.6233 - auc: 0.7269 - accuracy: 0.6644 - val_loss: 0.6429 - val_auc: 0.5349 - val_accuracy: 0.6667 - lr: 1.0000e-05\n",
            "Epoch 2/25\n",
            "115/115 [==============================] - 54s 468ms/step - loss: 0.4299 - auc: 0.9032 - accuracy: 0.8192 - val_loss: 0.5018 - val_auc: 0.8409 - val_accuracy: 0.7960 - lr: 1.5500e-04\n",
            "Epoch 3/25\n",
            "115/115 [==============================] - 54s 471ms/step - loss: 0.3271 - auc: 0.9561 - accuracy: 0.8913 - val_loss: 0.5589 - val_auc: 0.8762 - val_accuracy: 0.7787 - lr: 3.0000e-04\n",
            "Epoch 4/25\n",
            "115/115 [==============================] - 54s 472ms/step - loss: 0.2680 - auc: 0.9762 - accuracy: 0.9296 - val_loss: 0.5377 - val_auc: 0.9151 - val_accuracy: 0.8276 - lr: 3.0000e-04\n",
            "Epoch 5/25\n",
            "115/115 [==============================] - 55s 475ms/step - loss: 0.2165 - auc: 0.9898 - accuracy: 0.9534 - val_loss: 0.4560 - val_auc: 0.9228 - val_accuracy: 0.8477 - lr: 3.0000e-04\n",
            "Epoch 6/25\n",
            "115/115 [==============================] - 49s 427ms/step - loss: 0.1728 - auc: 0.9968 - accuracy: 0.9768 - val_loss: 0.5368 - val_auc: 0.8992 - val_accuracy: 0.8247 - lr: 2.4020e-04\n",
            "Epoch 7/25\n",
            "115/115 [==============================] - 49s 425ms/step - loss: 0.1590 - auc: 0.9980 - accuracy: 0.9844 - val_loss: 0.5194 - val_auc: 0.9222 - val_accuracy: 0.8276 - lr: 1.9236e-04\n",
            "Epoch 8/25\n",
            "115/115 [==============================] - 49s 426ms/step - loss: 0.1422 - auc: 0.9995 - accuracy: 0.9901 - val_loss: 0.5472 - val_auc: 0.8957 - val_accuracy: 0.8420 - lr: 1.5409e-04\n",
            "Epoch 9/25\n",
            "115/115 [==============================] - 49s 426ms/step - loss: 0.1346 - auc: 0.9998 - accuracy: 0.9943 - val_loss: 0.5648 - val_auc: 0.9111 - val_accuracy: 0.8247 - lr: 1.2347e-04\n",
            "Epoch 10/25\n",
            "115/115 [==============================] - 49s 426ms/step - loss: 0.1308 - auc: 0.9999 - accuracy: 0.9955 - val_loss: 0.5918 - val_auc: 0.8799 - val_accuracy: 0.8075 - lr: 9.8976e-05\n",
            "Epoch 11/25\n",
            "115/115 [==============================] - 49s 428ms/step - loss: 0.1295 - auc: 0.9999 - accuracy: 0.9957 - val_loss: 0.6102 - val_auc: 0.8755 - val_accuracy: 0.8017 - lr: 7.9381e-05\n",
            "Epoch 12/25\n",
            "115/115 [==============================] - 49s 426ms/step - loss: 0.1263 - auc: 1.0000 - accuracy: 0.9984 - val_loss: 0.6123 - val_auc: 0.8738 - val_accuracy: 0.8132 - lr: 6.3705e-05\n",
            "Epoch 13/25\n",
            "115/115 [==============================] - 49s 426ms/step - loss: 0.1251 - auc: 1.0000 - accuracy: 0.9980 - val_loss: 0.5832 - val_auc: 0.8686 - val_accuracy: 0.8161 - lr: 5.1164e-05\n",
            "Epoch 14/25\n",
            "115/115 [==============================] - 49s 426ms/step - loss: 0.1233 - auc: 1.0000 - accuracy: 0.9995 - val_loss: 0.6115 - val_auc: 0.8654 - val_accuracy: 0.8046 - lr: 4.1131e-05\n",
            "Epoch 15/25\n",
            "115/115 [==============================] - 49s 426ms/step - loss: 0.1237 - auc: 1.0000 - accuracy: 0.9985 - val_loss: 0.6250 - val_auc: 0.8620 - val_accuracy: 0.8075 - lr: 3.3105e-05\n",
            "Epoch 16/25\n",
            "115/115 [==============================] - 49s 426ms/step - loss: 0.1225 - auc: 1.0000 - accuracy: 0.9992 - val_loss: 0.6002 - val_auc: 0.8573 - val_accuracy: 0.8103 - lr: 2.6684e-05\n",
            "Epoch 17/25\n",
            "115/115 [==============================] - 49s 426ms/step - loss: 0.1228 - auc: 1.0000 - accuracy: 0.9988 - val_loss: 0.6105 - val_auc: 0.8703 - val_accuracy: 0.8103 - lr: 2.1547e-05\n",
            "Epoch 18/25\n",
            "115/115 [==============================] - 49s 425ms/step - loss: 0.1228 - auc: 1.0000 - accuracy: 0.9988 - val_loss: 0.6269 - val_auc: 0.8647 - val_accuracy: 0.8103 - lr: 1.7438e-05\n",
            "Epoch 19/25\n",
            "115/115 [==============================] - 49s 425ms/step - loss: 0.1230 - auc: 0.9999 - accuracy: 0.9986 - val_loss: 0.6240 - val_auc: 0.8664 - val_accuracy: 0.8046 - lr: 1.4150e-05\n",
            "Epoch 20/25\n",
            "115/115 [==============================] - 49s 427ms/step - loss: 0.1220 - auc: 1.0000 - accuracy: 0.9990 - val_loss: 0.6175 - val_auc: 0.8709 - val_accuracy: 0.8075 - lr: 1.1520e-05\n",
            "Epoch 21/25\n",
            "115/115 [==============================] - 49s 426ms/step - loss: 0.1221 - auc: 1.0000 - accuracy: 0.9990 - val_loss: 0.6110 - val_auc: 0.8691 - val_accuracy: 0.8075 - lr: 9.4161e-06\n",
            "Epoch 22/25\n",
            "115/115 [==============================] - 49s 426ms/step - loss: 0.1214 - auc: 1.0000 - accuracy: 0.9997 - val_loss: 0.6284 - val_auc: 0.8656 - val_accuracy: 0.8017 - lr: 7.7329e-06\n",
            "Epoch 23/25\n",
            "115/115 [==============================] - 49s 425ms/step - loss: 0.1218 - auc: 1.0000 - accuracy: 0.9992 - val_loss: 0.6163 - val_auc: 0.8691 - val_accuracy: 0.8075 - lr: 6.3863e-06\n",
            "Epoch 24/25\n",
            "115/115 [==============================] - 49s 425ms/step - loss: 0.1220 - auc: 1.0000 - accuracy: 0.9992 - val_loss: 0.6304 - val_auc: 0.8629 - val_accuracy: 0.7989 - lr: 5.3090e-06\n",
            "Epoch 25/25\n",
            "115/115 [==============================] - 49s 426ms/step - loss: 0.1218 - auc: 1.0000 - accuracy: 0.9989 - val_loss: 0.6388 - val_auc: 0.8660 - val_accuracy: 0.8046 - lr: 4.4472e-06\n"
          ]
        }
      ],
      "source": [
        "for component_dict in ensemble_components:\n",
        "    model, base_name = ensemble_component(component_dict)\n",
        "    train_dataset, valid_dataset, test_dataset, STEPS_PER_EPOCH, counts = build_datasets_new(component_dict)\n",
        "    sess_summary_new(component_dict, counts, dataset_deets = True)\n",
        "\n",
        "    weights_file = '{}_F{}_weights.h5'.format(component_dict['name'], component_dict['fold'])\n",
        "    component_dict['weights_file'] = weights_file\n",
        "    dict_test_dataset[component_dict['name']] = test_dataset\n",
        "    checkpoint = config_checkpoint(weights_file)\n",
        "\n",
        "    history = model.fit(train_dataset, epochs=EPOCHS, verbose=True, \n",
        "                        steps_per_epoch=STEPS_PER_EPOCH,\n",
        "                        callbacks=[checkpoint, lr_sched],\n",
        "                        validation_data=valid_dataset)\n",
        "    list_history.append({component_dict['name']:history})"
      ]
    },
    {
      "cell_type": "markdown",
      "metadata": {
        "id": "PI3FDxpyO-BW"
      },
      "source": [
        "# Performance Anaysis"
      ]
    },
    {
      "cell_type": "code",
      "execution_count": null,
      "metadata": {
        "id": "26Qp6zX5O72R"
      },
      "outputs": [],
      "source": [
        "#@markdown Rebuild Classifiers Functions (for Inference)\n",
        "#@markdown - Build untrained classifier\n",
        "def get_untrained_model(model_dict):\n",
        "    # Get Specs\n",
        "    base_model = model_dict['base_model']\n",
        "    DIM = model_dict['DIM']\n",
        "    opt = model_dict['opt']\n",
        "    INPUT_SHAPE = (DIM, DIM, N_CHANNELS)\n",
        "\n",
        "    # Build Model\n",
        "    K.clear_session()\n",
        "    with strategy.scope():\n",
        "        base = base_model(weights=None, include_top=False, input_shape=INPUT_SHAPE)                                       \n",
        "        model = build_model(base, N_CLASSES, INPUT_SHAPE) \n",
        "        model.compile(optimizer=opt, loss='binary_crossentropy', metrics=['AUC','accuracy']) \n",
        "\n",
        "    print('Built {} based model with random weights'.format(base.name.title()))\n",
        "    return model\n",
        "#@markdown - Load trained weights\n",
        "def switch_weights(model, model_dict):\n",
        "    weights_path = model_dict['weights_file']\n",
        "    model.load_weights(weights_path)\n",
        "    print('Assigned FOLD {} weights to {}-based model'.format(\n",
        "        model_dict['fold'], model.name.split('_')[0]))\n",
        "    return model"
      ]
    },
    {
      "cell_type": "code",
      "execution_count": null,
      "metadata": {
        "id": "IPtrrXf5_1C1"
      },
      "outputs": [],
      "source": [
        "#@markdown Prediction Function\n",
        "def get_predictions_new(valid_dataset, valid_orig_imgs, NUM_VALIDATION_IMAGES):\n",
        "    print('\\nMaking Predictions:')\n",
        "    eval = model.evaluate(valid_dataset, verbose=True, return_dict=False) # evaluation as in training\n",
        "    pred_orig = model.predict(valid_orig_imgs, verbose=1) # these are the predictions on the un-augmented valid set\n",
        "    return eval, pred_orig"
      ]
    },
    {
      "cell_type": "code",
      "execution_count": null,
      "metadata": {
        "id": "Gba8Y8FTQmwb"
      },
      "outputs": [],
      "source": [
        "folds_idx = [1] # the index in models_folds of the fold to be used\n",
        "efn_vers_idx = [3] # the index of the efn version to be used 0 for B3, 1 for B4, 2 for B6, 3 for B5"
      ]
    },
    {
      "cell_type": "code",
      "source": [
        "#@markdown Folds Models Lists\n",
        "models_fold_0 = [EB3_F0, EB4_F0, EB6_F0]\n",
        "models_fold_1 = [EB3_F1, EB4_F1, EB6_F1, EB5_F1]\n",
        "models_fold_2 = [EB3_F2, EB4_F2, EB6_F2]\n",
        "models_fold_3 = [EB3_F3, EB4_F3, EB6_F3]\n",
        "models_fold_4 = [EB3_F4, EB4_F4, EB6_F4]\n",
        "\n",
        "models_folds = [models_fold_0, models_fold_1, models_fold_2, \n",
        "                models_fold_3, models_fold_4]"
      ],
      "metadata": {
        "id": "oFMIeMb7uvhu"
      },
      "execution_count": null,
      "outputs": []
    },
    {
      "cell_type": "code",
      "execution_count": null,
      "metadata": {
        "id": "TcA5qRvH2YS4"
      },
      "outputs": [],
      "source": [
        "#Plotting the model Accurcay and Loss\n",
        "def print_loss_history(training_history,name):\n",
        "    loss = training_history.history['loss']\n",
        "    val_loss = training_history.history['val_loss']\n",
        "    epochs = range(1, len(loss) + 1)\n",
        "    plt.plot(epochs, loss, color='red', label='Training loss')\n",
        "    plt.plot(epochs, val_loss, color='green', label='Validation loss')\n",
        "    #plt.plot([0, 1], [0, 1])\n",
        "    plt.title('Training and validation loss - '+name)\n",
        "    plt.xlabel('Epochs')\n",
        "    plt.ylabel('Loss')\n",
        "    plt.legend()\n",
        "    plt.show()\n",
        "    return\n",
        "\n",
        "def print_accuracy_history(training_history,name):\n",
        "    acc = training_history.history['accuracy']\n",
        "    val_acc = training_history.history['val_accuracy']\n",
        "    epochs = range(1, len(acc) + 1)\n",
        "    plt.plot(epochs, acc, color='red', label='Training accuracy')\n",
        "    plt.plot(epochs, val_acc, color='green', label='Validation accuracy')\n",
        "    #plt.plot([0, 1], [0, 1])\n",
        "    plt.title('Training and validation accuracy - '+name)\n",
        "    plt.xlabel('Epochs')\n",
        "    plt.ylabel('Accuracy')\n",
        "    plt.legend()\n",
        "    plt.show()\n",
        "    return"
      ]
    },
    {
      "cell_type": "code",
      "source": [
        "for history in list_history:\n",
        "  for key, value in history.items():\n",
        "    print(\"================= \",key,\" ====================================\")\n",
        "    print_loss_history(value,key)\n",
        "    print_accuracy_history(value,key)"
      ],
      "metadata": {
        "colab": {
          "base_uri": "https://localhost:8080/",
          "height": 590
        },
        "id": "o6BFlMpgfIpY",
        "outputId": "b2d10e48-6374-4a06-e25c-2092cb0033cf"
      },
      "execution_count": null,
      "outputs": [
        {
          "output_type": "stream",
          "name": "stdout",
          "text": [
            "=================  EB5  ====================================\n"
          ]
        },
        {
          "output_type": "display_data",
          "data": {
            "image/png": "[encoded data removed]",
            "text/plain": [
              "<Figure size 576x288 with 1 Axes>"
            ]
          },
          "metadata": {
            "needs_background": "dark"
          }
        },
        {
          "output_type": "display_data",
          "data": {
            "image/png": "[encoded data removed]",
            "text/plain": [
              "<Figure size 576x288 with 1 Axes>"
            ]
          },
          "metadata": {
            "needs_background": "dark"
          }
        }
      ]
    },
    {
      "cell_type": "code",
      "execution_count": null,
      "metadata": {
        "id": "7pIVruS6UCTp"
      },
      "outputs": [],
      "source": [
        "from sklearn.metrics import confusion_matrix\n",
        "from sklearn.metrics import classification_report, ConfusionMatrixDisplay\n",
        "from sklearn.metrics import RocCurveDisplay"
      ]
    },
    {
      "cell_type": "code",
      "execution_count": null,
      "metadata": {
        "cellView": "code",
        "colab": {
          "base_uri": "https://localhost:8080/",
          "height": 1000
        },
        "outputId": "d38ff8be-0b2b-4ca9-c0cf-311745fbed90",
        "id": "jbjzWcnF_Oxu"
      },
      "outputs": [
        {
          "output_type": "stream",
          "name": "stdout",
          "text": [
            "Processing models for FOLD 1 \n",
            "Getting targets and names\n",
            "Built Efficientnet-B5 based model with random weights\n",
            "Assigned FOLD 1 weights to Efficientnet-B5-based model\n",
            "\n",
            "Making Predictions:\n",
            "3/3 [==============================] - 62s 15s/step - loss: 0.4842 - auc: 0.8794 - accuracy: 0.8391\n",
            "3/3 [==============================] - 56s 15s/step\n",
            "\n",
            "Evaluation Results:\n"
          ]
        },
        {
          "output_type": "display_data",
          "data": {
            "text/html": [
              "\n",
              "  <div id=\"df-b65bcdde-c630-41e0-8c35-787af5ace85a\">\n",
              "    <div class=\"colab-df-container\">\n",
              "      <div>\n",
              "<style scoped>\n",
              "    .dataframe tbody tr th:only-of-type {\n",
              "        vertical-align: middle;\n",
              "    }\n",
              "\n",
              "    .dataframe tbody tr th {\n",
              "        vertical-align: top;\n",
              "    }\n",
              "\n",
              "    .dataframe thead th {\n",
              "        text-align: right;\n",
              "    }\n",
              "</style>\n",
              "<table border=\"1\" class=\"dataframe\">\n",
              "  <thead>\n",
              "    <tr style=\"text-align: right;\">\n",
              "      <th></th>\n",
              "      <th>component</th>\n",
              "      <th>tf_eval</th>\n",
              "      <th>no_aug</th>\n",
              "    </tr>\n",
              "  </thead>\n",
              "  <tbody>\n",
              "    <tr>\n",
              "      <th>0</th>\n",
              "      <td>EB5_F1</td>\n",
              "      <td>0.87938</td>\n",
              "      <td>0.884364</td>\n",
              "    </tr>\n",
              "  </tbody>\n",
              "</table>\n",
              "</div>\n",
              "      <button class=\"colab-df-convert\" onclick=\"convertToInteractive('df-b65bcdde-c630-41e0-8c35-787af5ace85a')\"\n",
              "              title=\"Convert this dataframe to an interactive table.\"\n",
              "              style=\"display:none;\">\n",
              "        \n",
              "  <svg xmlns=\"http://www.w3.org/2000/svg\" height=\"24px\"viewBox=\"0 0 24 24\"\n",
              "       width=\"24px\">\n",
              "    <path d=\"M0 0h24v24H0V0z\" fill=\"none\"/>\n",
              "    <path d=\"M18.56 5.44l.94 2.06.94-2.06 2.06-.94-2.06-.94-.94-2.06-.94 2.06-2.06.94zm-11 1L8.5 8.5l.94-2.06 2.06-.94-2.06-.94L8.5 2.5l-.94 2.06-2.06.94zm10 10l.94 2.06.94-2.06 2.06-.94-2.06-.94-.94-2.06-.94 2.06-2.06.94z\"/><path d=\"M17.41 7.96l-1.37-1.37c-.4-.4-.92-.59-1.43-.59-.52 0-1.04.2-1.43.59L10.3 9.45l-7.72 7.72c-.78.78-.78 2.05 0 2.83L4 21.41c.39.39.9.59 1.41.59.51 0 1.02-.2 1.41-.59l7.78-7.78 2.81-2.81c.8-.78.8-2.07 0-2.86zM5.41 20L4 18.59l7.72-7.72 1.47 1.35L5.41 20z\"/>\n",
              "  </svg>\n",
              "      </button>\n",
              "      \n",
              "  <style>\n",
              "    .colab-df-container {\n",
              "      display:flex;\n",
              "      flex-wrap:wrap;\n",
              "      gap: 12px;\n",
              "    }\n",
              "\n",
              "    .colab-df-convert {\n",
              "      background-color: #E8F0FE;\n",
              "      border: none;\n",
              "      border-radius: 50%;\n",
              "      cursor: pointer;\n",
              "      display: none;\n",
              "      fill: #1967D2;\n",
              "      height: 32px;\n",
              "      padding: 0 0 0 0;\n",
              "      width: 32px;\n",
              "    }\n",
              "\n",
              "    .colab-df-convert:hover {\n",
              "      background-color: #E2EBFA;\n",
              "      box-shadow: 0px 1px 2px rgba(60, 64, 67, 0.3), 0px 1px 3px 1px rgba(60, 64, 67, 0.15);\n",
              "      fill: #174EA6;\n",
              "    }\n",
              "\n",
              "    [theme=dark] .colab-df-convert {\n",
              "      background-color: #3B4455;\n",
              "      fill: #D2E3FC;\n",
              "    }\n",
              "\n",
              "    [theme=dark] .colab-df-convert:hover {\n",
              "      background-color: #434B5C;\n",
              "      box-shadow: 0px 1px 3px 1px rgba(0, 0, 0, 0.15);\n",
              "      filter: drop-shadow(0px 1px 2px rgba(0, 0, 0, 0.3));\n",
              "      fill: #FFFFFF;\n",
              "    }\n",
              "  </style>\n",
              "\n",
              "      <script>\n",
              "        const buttonEl =\n",
              "          document.querySelector('#df-b65bcdde-c630-41e0-8c35-787af5ace85a button.colab-df-convert');\n",
              "        buttonEl.style.display =\n",
              "          google.colab.kernel.accessAllowed ? 'block' : 'none';\n",
              "\n",
              "        async function convertToInteractive(key) {\n",
              "          const element = document.querySelector('#df-b65bcdde-c630-41e0-8c35-787af5ace85a');\n",
              "          const dataTable =\n",
              "            await google.colab.kernel.invokeFunction('convertToInteractive',\n",
              "                                                     [key], {});\n",
              "          if (!dataTable) return;\n",
              "\n",
              "          const docLinkHtml = 'Like what you see? Visit the ' +\n",
              "            '<a target=\"_blank\" href=https://colab.research.google.com/notebooks/data_table.ipynb>data table notebook</a>'\n",
              "            + ' to learn more about interactive tables.';\n",
              "          element.innerHTML = '';\n",
              "          dataTable['output_type'] = 'display_data';\n",
              "          await google.colab.output.renderOutput(dataTable, element);\n",
              "          const docLink = document.createElement('div');\n",
              "          docLink.innerHTML = docLinkHtml;\n",
              "          element.appendChild(docLink);\n",
              "        }\n",
              "      </script>\n",
              "    </div>\n",
              "  </div>\n",
              "  "
            ],
            "text/plain": [
              "  component  tf_eval    no_aug\n",
              "0    EB5_F1  0.87938  0.884364"
            ]
          },
          "metadata": {}
        },
        {
          "output_type": "stream",
          "name": "stdout",
          "text": [
            "\n",
            "\n",
            "================  EB5  =================\n",
            "classification_report -  EB5\n",
            "              precision    recall  f1-score   support\n",
            "\n",
            "           0       0.84      0.94      0.89       116\n",
            "           1       0.84      0.64      0.73        58\n",
            "\n",
            "    accuracy                           0.84       174\n",
            "   macro avg       0.84      0.79      0.81       174\n",
            "weighted avg       0.84      0.84      0.83       174\n",
            "\n",
            "Confusion matrix -  EB5\n"
          ]
        },
        {
          "output_type": "display_data",
          "data": {
            "image/png": "[encoded data removed]",
            "text/plain": [
              "<Figure size 576x288 with 2 Axes>"
            ]
          },
          "metadata": {
            "needs_background": "dark"
          }
        },
        {
          "output_type": "stream",
          "name": "stdout",
          "text": [
            " ROC curve -  EB5\n",
            "ROC -->  0.7887931034482759\n"
          ]
        },
        {
          "output_type": "display_data",
          "data": {
            "image/png": "[encoded data removed]",
            "text/plain": [
              "<Figure size 576x288 with 1 Axes>"
            ]
          },
          "metadata": {
            "needs_background": "dark"
          }
        }
      ],
      "source": [
        "#@markdown Prediction and Evaluation Loop Version 1.1\n",
        "#TTA = 30 # Test time augmentation Steps \n",
        "#cols = ['component', 'tf_eval', 'no_aug', 'tta_10', 'tta_20', 'tta_30', 'best']\n",
        "cols = ['component', 'tf_eval', 'no_aug']\n",
        "list_pred_component = []\n",
        "aucsDF = pd.DataFrame(columns = cols)\n",
        "\n",
        "# for fold_num, models_fold in enumerate(models_folds): # START OUTER LOOP\n",
        "for fold_num in folds_idx: # START OUTER LOOP\n",
        "    print('Processing models for FOLD {} \\nGetting targets and names'.format(fold_num))\n",
        "\n",
        "    models_fold = models_folds[fold_num]\n",
        "\n",
        "    # for model_index, model_dict in enumerate(models_fold): # START INNER LOOP\n",
        "    for model_index in efn_vers_idx: # START INNER LOOP\n",
        "        model_dict = models_fold[model_index]\n",
        "\n",
        "        test_dataset = dict_test_dataset[model_dict['name']]\n",
        "        # retrive the targets\n",
        "        val_targets_ds = test_dataset.map(lambda image, image_name, target: target)\n",
        "        val_targets = np.array([target.numpy() for target in iter(val_targets_ds)])\n",
        "        \n",
        "        # retrieve image names\n",
        "        val_names_ds = test_dataset.map(lambda image, image_name, target: image_name)\n",
        "        val_names = [image_name.numpy().decode(\"utf-8\") for image_name in iter(val_names_ds)] \n",
        "\n",
        "        # Create one of this for each FOLD, put info of all 3 models here. \n",
        "        predsDF = pd.DataFrame({'image_name': val_names, 'target': val_targets})\n",
        "\n",
        "        model = get_untrained_model(model_dict) \n",
        "        DIM = model_dict['DIM']\n",
        "        model = switch_weights(model, model_dict)\n",
        "\n",
        "        # valid_dataset, VALIDATION_FILENAMES_used, _ = unaugmented_val_dataset(model_dict['fold'], DIM)\n",
        "        # assert VALIDATION_FILENAMES == VALIDATION_FILENAMES_used, 'VALIDATION_FILENAMES are not the same'\n",
        "\n",
        "        valid_orig_imgs = test_dataset.map(lambda image, image_name, target: image)\n",
        "        valid_orig_imgs = valid_orig_imgs.batch(BATCH_SIZE)\n",
        "        #valid_aug_imgs  = tta_validation_datasets(VALIDATION_FILENAMES, DIM)[0]\n",
        "\n",
        "        test_dataset_eval = test_dataset.map(lambda image, image_name, target: getTrainingElements(image, target))\n",
        "        test_dataset_eval = test_dataset_eval.batch(BATCH_SIZE)\n",
        "        \n",
        "        eval, pred_orig= get_predictions_new(test_dataset_eval, valid_orig_imgs, counts[2])\n",
        "        eval_auc = round(eval[1], 5)\n",
        "\n",
        "        col_prefix = '{}_F{}'.format(model_dict['name'], model_dict['fold'])\n",
        "        predsDF[col_prefix+'_NOAUG'] = pred_orig\n",
        "        # predsDF[col_prefix+'_TTA10'] = np.mean(tta_preds[:,:10], axis = 1)\n",
        "        # predsDF[col_prefix+'_TTA20'] = np.mean(tta_preds[:,:20], axis = 1)\n",
        "        # predsDF[col_prefix+'_TTA30'] = np.mean(tta_preds, axis = 1)\n",
        "\n",
        "        AUCs = {}\n",
        "        AUCs['component'] = col_prefix\n",
        "        AUCs['tf_eval'] = eval_auc\n",
        "        AUCs['no_aug'] = roc_auc_score(val_targets, pred_orig)\n",
        "        # AUCs['tta_10'] = roc_auc_score(val_targets, predsDF[col_prefix+'_TTA10'])\n",
        "        # AUCs['tta_20'] = roc_auc_score(val_targets, predsDF[col_prefix+'_TTA20'])\n",
        "        # AUCs['tta_30'] = roc_auc_score(val_targets, predsDF[col_prefix+'_TTA30'])\n",
        "\n",
        "        aucsDF = aucsDF.append([AUCs])\n",
        "        #aucsDF['best']=aucsDF[aucsDF.columns[-5:-1]].idxmax(axis=1) \n",
        "        print('\\nEvaluation Results:')\n",
        "        display(aucsDF[aucsDF.component == col_prefix])\n",
        "        print('\\n')\n",
        "        pred_comp = {\n",
        "            'baseModel':model_dict['name'],\n",
        "            'validation_targets':val_targets,\n",
        "            'validation_pred_orig':pred_orig\n",
        "        }\n",
        "        list_pred_component.append(pred_comp)\n",
        "        pred_orig_rint = np.rint(pred_orig).astype(np.uint8).clip(0, 1)\n",
        "        print(\"================ \",model_dict['name'],\" =================\")\n",
        "        print('classification_report - ',model_dict['name'])\n",
        "        print(classification_report(val_targets, pred_orig_rint))\n",
        "        print('Confusion matrix - ',model_dict['name'])\n",
        "        # confusion_matrix_vals = confusion_matrix(validation_targets, validation_pred_orig)\n",
        "        # disp = ConfusionMatrixDisplay(confusion_matrix=confusion_matrix_vals)\n",
        "        # disp.plot()\n",
        "        ConfusionMatrixDisplay.from_predictions(val_targets, pred_orig_rint)\n",
        "        plt.show()\n",
        "        print(' ROC curve - ',model_dict['name'])\n",
        "        print(\"ROC --> \",roc_auc_score(val_targets, pred_orig_rint))\n",
        "        RocCurveDisplay.from_predictions(val_targets, pred_orig_rint)\n",
        "        plt.show()\n",
        "\n",
        "        # END inner loop\n",
        "\n",
        "    # back to outer loop\n",
        "    preds_file_name = 'preds_fold_{}.csv'.format(fold_num)\n",
        "    predsDF.to_csv(preds_file_name, index=False)\n",
        "\n",
        "# END of outer loop\n",
        "aucsDF.to_csv('AUCS.csv', index=False)"
      ]
    }
  ]
}